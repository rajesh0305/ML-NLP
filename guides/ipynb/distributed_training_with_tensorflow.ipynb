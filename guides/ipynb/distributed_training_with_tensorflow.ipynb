{
 "cells": [
  {
   "cell_type": "markdown",
   "metadata": {
    "colab_type": "text"
   },
   "source": [
    "# Multi-GPU distributed training with TensorFlow\n",
    "\n",
    "**Author:** [fchollet](https://twitter.com/fchollet)<br>\n",
    "**Date created:** 2020/04/28<br>\n",
    "**Last modified:** 2023/06/29<br>\n",
    "**Description:** Guide to multi-GPU training for Keras models with TensorFlow."
   ]
  },
  {
   "cell_type": "markdown",
   "metadata": {
    "colab_type": "text"
   },
   "source": [
    "## Introduction\n",
    "\n",
    "There are generally two ways to distribute computation across multiple devices:\n",
    "\n",
    "**Data parallelism**, where a single model gets replicated on multiple devices or\n",
    "multiple machines. Each of them processes different batches of data, then they merge\n",
    "their results. There exist many variants of this setup, that differ in how the different\n",
    "model replicas merge results, in whether they stay in sync at every batch or whether they\n",
    "are more loosely coupled, etc.\n",
    "\n",
    "**Model parallelism**, where different parts of a single model run on different devices,\n",
    "processing a single batch of data together. This works best with models that have a\n",
    "naturally-parallel architecture, such as models that feature multiple branches.\n",
    "\n",
    "This guide focuses on data parallelism, in particular **synchronous data parallelism**,\n",
    "where the different replicas of the model stay in sync after each batch they process.\n",
    "Synchronicity keeps the model convergence behavior identical to what you would see for\n",
    "single-device training.\n",
    "\n",
    "Specifically, this guide teaches you how to use the `tf.distribute` API to train Keras\n",
    "models on multiple GPUs, with minimal changes to your code,\n",
    "on multiple GPUs (typically 2 to 16) installed on a single machine (single host,\n",
    "multi-device training). This is the most common setup for researchers and small-scale\n",
    "industry workflows."
   ]
  },
  {
   "cell_type": "code",
   "execution_count": null,
   "metadata": {
    "colab_type": "code"
   },
   "outputs": [],
   "source": [
    "!pip install keras --upgrade --quiet"
   ]
  },
  {
   "cell_type": "markdown",
   "metadata": {
    "colab_type": "text"
   },
   "source": [
    "## Setup"
   ]
  },
  {
   "cell_type": "code",
   "execution_count": 0,
   "metadata": {
    "colab_type": "code"
   },
   "outputs": [],
   "source": [
    "import os\n",
    "\n",
    "os.environ[\"KERAS_BACKEND\"] = \"tensorflow\"\n",
    "\n",
    "import tensorflow as tf\n",
    "import keras"
   ]
  },
  {
   "cell_type": "markdown",
   "metadata": {
    "colab_type": "text"
   },
   "source": [
    "## Single-host, multi-device synchronous training\n",
    "\n",
    "In this setup, you have one machine with several GPUs on it (typically 2 to 16). Each\n",
    "device will run a copy of your model (called a **replica**). For simplicity, in what\n",
    "follows, we'll assume we're dealing with 8 GPUs, at no loss of generality.\n",
    "\n",
    "**How it works**\n",
    "\n",
    "At each step of training:\n",
    "\n",
    "- The current batch of data (called **global batch**) is split into 8 different\n",
    "sub-batches (called **local batches**). For instance, if the global batch has 512\n",
    "samples, each of the 8 local batches will have 64 samples.\n",
    "- Each of the 8 replicas independently processes a local batch: they run a forward pass,\n",
    "then a backward pass, outputting the gradient of the weights with respect to the loss of\n",
    "the model on the local batch.\n",
    "- The weight updates originating from local gradients are efficiently merged across the 8\n",
    "replicas. Because this is done at the end of every step, the replicas always stay in\n",
    "sync.\n",
    "\n",
    "In practice, the process of synchronously updating the weights of the model replicas is\n",
    "handled at the level of each individual weight variable. This is done through a **mirrored\n",
    "variable** object.\n",
    "\n",
    "**How to use it**\n",
    "\n",
    "To do single-host, multi-device synchronous training with a Keras model, you would use\n",
    "the [`tf.distribute.MirroredStrategy` API](\n",
    "    https://www.tensorflow.org/api_docs/python/tf/distribute/MirroredStrategy).\n",
    "Here's how it works:\n",
    "\n",
    "- Instantiate a `MirroredStrategy`, optionally configuring which specific devices you\n",
    "want to use (by default the strategy will use all GPUs available).\n",
    "- Use the strategy object to open a scope, and within this scope, create all the Keras\n",
    "objects you need that contain variables. Typically, that means **creating & compiling the\n",
    "model** inside the distribution scope. In some cases, the first call to `fit()` may also\n",
    "create variables, so it's a good idea to put your `fit()` call in the scope as well.\n",
    "- Train the model via `fit()` as usual.\n",
    "\n",
    "Importantly, we recommend that you use `tf.data.Dataset` objects to load data\n",
    "in a multi-device or distributed workflow.\n",
    "\n",
    "Schematically, it looks like this:\n",
    "\n",
    "```python\n",
    "# Create a MirroredStrategy.\n",
    "strategy = tf.distribute.MirroredStrategy()\n",
    "print('Number of devices: {}'.format(strategy.num_replicas_in_sync))\n",
    "\n",
    "# Open a strategy scope.\n",
    "with strategy.scope():\n",
    "    # Everything that creates variables should be under the strategy scope.\n",
    "    # In general this is only model construction & `compile()`.\n",
    "    model = Model(...)\n",
    "    model.compile(...)\n",
    "\n",
    "    # Train the model on all available devices.\n",
    "    model.fit(train_dataset, validation_data=val_dataset, ...)\n",
    "\n",
    "    # Test the model on all available devices.\n",
    "    model.evaluate(test_dataset)\n",
    "```\n",
    "\n",
    "Here's a simple end-to-end runnable example:"
   ]
  },
  {
   "cell_type": "code",
   "execution_count": 0,
   "metadata": {
    "colab_type": "code"
   },
   "outputs": [],
   "source": [
    "\n",
    "def get_compiled_model():\n",
    "    # Make a simple 2-layer densely-connected neural network.\n",
    "    inputs = keras.Input(shape=(784,))\n",
    "    x = keras.layers.Dense(256, activation=\"relu\")(inputs)\n",
    "    x = keras.layers.Dense(256, activation=\"relu\")(x)\n",
    "    outputs = keras.layers.Dense(10)(x)\n",
    "    model = keras.Model(inputs, outputs)\n",
    "    model.compile(\n",
    "        optimizer=keras.optimizers.Adam(),\n",
    "        loss=keras.losses.SparseCategoricalCrossentropy(from_logits=True),\n",
    "        metrics=[keras.metrics.SparseCategoricalAccuracy()],\n",
    "    )\n",
    "    return model\n",
    "\n",
    "\n",
    "def get_dataset():\n",
    "    batch_size = 32\n",
    "    num_val_samples = 10000\n",
    "\n",
    "    # Return the MNIST dataset in the form of a `tf.data.Dataset`.\n",
    "    (x_train, y_train), (x_test, y_test) = keras.datasets.mnist.load_data()\n",
    "\n",
    "    # Preprocess the data (these are Numpy arrays)\n",
    "    x_train = x_train.reshape(-1, 784).astype(\"float32\") / 255\n",
    "    x_test = x_test.reshape(-1, 784).astype(\"float32\") / 255\n",
    "    y_train = y_train.astype(\"float32\")\n",
    "    y_test = y_test.astype(\"float32\")\n",
    "\n",
    "    # Reserve num_val_samples samples for validation\n",
    "    x_val = x_train[-num_val_samples:]\n",
    "    y_val = y_train[-num_val_samples:]\n",
    "    x_train = x_train[:-num_val_samples]\n",
    "    y_train = y_train[:-num_val_samples]\n",
    "    return (\n",
    "        tf.data.Dataset.from_tensor_slices((x_train, y_train)).batch(batch_size),\n",
    "        tf.data.Dataset.from_tensor_slices((x_val, y_val)).batch(batch_size),\n",
    "        tf.data.Dataset.from_tensor_slices((x_test, y_test)).batch(batch_size),\n",
    "    )\n",
    "\n",
    "\n",
    "# Create a MirroredStrategy.\n",
    "strategy = tf.distribute.MirroredStrategy()\n",
    "print(\"Number of devices: {}\".format(strategy.num_replicas_in_sync))\n",
    "\n",
    "# Open a strategy scope.\n",
    "with strategy.scope():\n",
    "    # Everything that creates variables should be under the strategy scope.\n",
    "    # In general this is only model construction & `compile()`.\n",
    "    model = get_compiled_model()\n",
    "\n",
    "    # Train the model on all available devices.\n",
    "    train_dataset, val_dataset, test_dataset = get_dataset()\n",
    "    model.fit(train_dataset, epochs=2, validation_data=val_dataset)\n",
    "\n",
    "    # Test the model on all available devices.\n",
    "    model.evaluate(test_dataset)"
   ]
  },
  {
   "cell_type": "markdown",
   "metadata": {
    "colab_type": "text"
   },
   "source": [
    "## Using callbacks to ensure fault tolerance\n",
    "\n",
    "When using distributed training, you should always make sure you have a strategy to\n",
    "recover from failure (fault tolerance). The simplest way to handle this is to pass\n",
    "`ModelCheckpoint` callback to `fit()`, to save your model\n",
    "at regular intervals (e.g. every 100 batches or every epoch). You can then restart\n",
    "training from your saved model.\n",
    "\n",
    "Here's a simple example:"
   ]
  },
  {
   "cell_type": "code",
   "execution_count": 0,
   "metadata": {
    "colab_type": "code"
   },
   "outputs": [],
   "source": [
    "# Prepare a directory to store all the checkpoints.\n",
    "checkpoint_dir = \"./ckpt\"\n",
    "if not os.path.exists(checkpoint_dir):\n",
    "    os.makedirs(checkpoint_dir)\n",
    "\n",
    "\n",
    "def make_or_restore_model():\n",
    "    # Either restore the latest model, or create a fresh one\n",
    "    # if there is no checkpoint available.\n",
    "    checkpoints = [checkpoint_dir + \"/\" + name for name in os.listdir(checkpoint_dir)]\n",
    "    if checkpoints:\n",
    "        latest_checkpoint = max(checkpoints, key=os.path.getctime)\n",
    "        print(\"Restoring from\", latest_checkpoint)\n",
    "        return keras.models.load_model(latest_checkpoint)\n",
    "    print(\"Creating a new model\")\n",
    "    return get_compiled_model()\n",
    "\n",
    "\n",
    "def run_training(epochs=1):\n",
    "    # Create a MirroredStrategy.\n",
    "    strategy = tf.distribute.MirroredStrategy()\n",
    "\n",
    "    # Open a strategy scope and create/restore the model\n",
    "    with strategy.scope():\n",
    "        model = make_or_restore_model()\n",
    "\n",
    "        callbacks = [\n",
    "            # This callback saves a SavedModel every epoch\n",
    "            # We include the current epoch in the folder name.\n",
    "            keras.callbacks.ModelCheckpoint(\n",
    "                filepath=checkpoint_dir + \"/ckpt-{epoch}.keras\",\n",
    "                save_freq=\"epoch\",\n",
    "            )\n",
    "        ]\n",
    "        model.fit(\n",
    "            train_dataset,\n",
    "            epochs=epochs,\n",
    "            callbacks=callbacks,\n",
    "            validation_data=val_dataset,\n",
    "            verbose=2,\n",
    "        )\n",
    "\n",
    "\n",
    "# Running the first time creates the model\n",
    "run_training(epochs=1)\n",
    "\n",
    "# Calling the same function again will resume from where we left off\n",
    "run_training(epochs=1)"
   ]
  },
  {
   "cell_type": "markdown",
   "metadata": {
    "colab_type": "text"
   },
   "source": [
    "## `tf.data` performance tips\n",
    "\n",
    "When doing distributed training, the efficiency with which you load data can often become\n",
    "critical. Here are a few tips to make sure your `tf.data` pipelines\n",
    "run as fast as possible.\n",
    "\n",
    "**Note about dataset batching**\n",
    "\n",
    "When creating your dataset, make sure it is batched with the global batch size.\n",
    "For instance, if each of your 8 GPUs is capable of running a batch of 64 samples, you\n",
    "call use a global batch size of 512.\n",
    "\n",
    "**Calling `dataset.cache()`**\n",
    "\n",
    "If you call `.cache()` on a dataset, its data will be cached after running through the\n",
    "first iteration over the data. Every subsequent iteration will use the cached data. The\n",
    "cache can be in memory (default) or to a local file you specify.\n",
    "\n",
    "This can improve performance when:\n",
    "\n",
    "- Your data is not expected to change from iteration to iteration\n",
    "- You are reading data from a remote distributed filesystem\n",
    "- You are reading data from local disk, but your data would fit in memory and your\n",
    "workflow is significantly IO-bound (e.g. reading & decoding image files).\n",
    "\n",
    "**Calling `dataset.prefetch(buffer_size)`**\n",
    "\n",
    "You should almost always call `.prefetch(buffer_size)` after creating a dataset. It means\n",
    "your data pipeline will run asynchronously from your model,\n",
    "with new samples being preprocessed and stored in a buffer while the current batch\n",
    "samples are used to train the model. The next batch will be prefetched in GPU memory by\n",
    "the time the current batch is over."
   ]
  },
  {
   "cell_type": "markdown",
   "metadata": {
    "colab_type": "text"
   },
   "source": [
    "That's it!"
   ]
  }
 ],
 "metadata": {
  "accelerator": "GPU",
  "colab": {
   "collapsed_sections": [],
   "name": "distributed_training_with_tensorflow",
   "private_outputs": false,
   "provenance": [],
   "toc_visible": true
  },
  "kernelspec": {
   "display_name": "Python 3",
   "language": "python",
   "name": "python3"
  },
  "language_info": {
   "codemirror_mode": {
    "name": "ipython",
    "version": 3
   },
   "file_extension": ".py",
   "mimetype": "text/x-python",
   "name": "python",
   "nbconvert_exporter": "python",
   "pygments_lexer": "ipython3",
   "version": "3.7.0"
  }
 },
 "nbformat": 4,
 "nbformat_minor": 0
}