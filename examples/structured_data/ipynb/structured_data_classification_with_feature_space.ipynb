{
 "cells": [
  {
   "cell_type": "markdown",
   "metadata": {
    "colab_type": "text"
   },
   "source": [
    "# Structured data classification with FeatureSpace\n",
    "\n",
    "**Author:** [fchollet](https://twitter.com/fchollet)<br>\n",
    "**Date created:** 2022/11/09<br>\n",
    "**Last modified:** 2022/11/09<br>\n",
    "**Description:** Classify tabular data in a few lines of code."
   ]
  },
  {
   "cell_type": "markdown",
   "metadata": {
    "colab_type": "text"
   },
   "source": [
    "## Introduction\n",
    "\n",
    "This example demonstrates how to do structured data classification\n",
    "(also known as tabular data classification), starting from a raw\n",
    "CSV file. Our data includes numerical features,\n",
    "and integer categorical features, and string categorical features.\n",
    "We will use the utility `keras.utils.FeatureSpace` to index,\n",
    "preprocess, and encode our features.\n",
    "\n",
    "The code is adapted from the example\n",
    "[Structured data classification from scratch](https://keras.io/examples/structured_data/structured_data_classification_from_scratch/).\n",
    "While the previous example managed its own low-level feature preprocessing and\n",
    "encoding with Keras preprocessing layers, in this example we\n",
    "delegate everything to `FeatureSpace`, making the workflow\n",
    "extremely quick and easy.\n",
    "\n",
    "### The dataset\n",
    "\n",
    "[Our dataset](https://archive.ics.uci.edu/ml/datasets/heart+Disease) is provided by the\n",
    "Cleveland Clinic Foundation for Heart Disease.\n",
    "It's a CSV file with 303 rows. Each row contains information about a patient (a\n",
    "**sample**), and each column describes an attribute of the patient (a **feature**). We\n",
    "use the features to predict whether a patient has a heart disease\n",
    "(**binary classification**).\n",
    "\n",
    "Here's the description of each feature:\n",
    "\n",
    "Column| Description| Feature Type\n",
    "------------|--------------------|----------------------\n",
    "Age | Age in years | Numerical\n",
    "Sex | (1 = male; 0 = female) | Categorical\n",
    "CP | Chest pain type (0, 1, 2, 3, 4) | Categorical\n",
    "Trestbpd | Resting blood pressure (in mm Hg on admission) | Numerical\n",
    "Chol | Serum cholesterol in mg/dl | Numerical\n",
    "FBS | fasting blood sugar in 120 mg/dl (1 = true; 0 = false) | Categorical\n",
    "RestECG | Resting electrocardiogram results (0, 1, 2) | Categorical\n",
    "Thalach | Maximum heart rate achieved | Numerical\n",
    "Exang | Exercise induced angina (1 = yes; 0 = no) | Categorical\n",
    "Oldpeak | ST depression induced by exercise relative to rest | Numerical\n",
    "Slope | Slope of the peak exercise ST segment | Numerical\n",
    "CA | Number of major vessels (0-3) colored by fluoroscopy | Both numerical & categorical\n",
    "Thal | 3 = normal; 6 = fixed defect; 7 = reversible defect | Categorical\n",
    "Target | Diagnosis of heart disease (1 = true; 0 = false) | Target"
   ]
  },
  {
   "cell_type": "markdown",
   "metadata": {
    "colab_type": "text"
   },
   "source": [
    "## Setup"
   ]
  },
  {
   "cell_type": "code",
   "execution_count": 0,
   "metadata": {
    "colab_type": "code"
   },
   "outputs": [],
   "source": [
    "import os\n",
    "\n",
    "os.environ[\"KERAS_BACKEND\"] = \"tensorflow\"\n",
    "\n",
    "import tensorflow as tf\n",
    "import pandas as pd\n",
    "import keras\n",
    "from keras.utils import FeatureSpace"
   ]
  },
  {
   "cell_type": "markdown",
   "metadata": {
    "colab_type": "text"
   },
   "source": [
    "## Preparing the data\n",
    "\n",
    "Let's download the data and load it into a Pandas dataframe:"
   ]
  },
  {
   "cell_type": "code",
   "execution_count": 0,
   "metadata": {
    "colab_type": "code"
   },
   "outputs": [],
   "source": [
    "file_url = \"http://storage.googleapis.com/download.tensorflow.org/data/heart.csv\"\n",
    "dataframe = pd.read_csv(file_url)"
   ]
  },
  {
   "cell_type": "markdown",
   "metadata": {
    "colab_type": "text"
   },
   "source": [
    "The dataset includes 303 samples with 14 columns per sample\n",
    "(13 features, plus the target label):"
   ]
  },
  {
   "cell_type": "code",
   "execution_count": 0,
   "metadata": {
    "colab_type": "code"
   },
   "outputs": [],
   "source": [
    "print(dataframe.shape)"
   ]
  },
  {
   "cell_type": "markdown",
   "metadata": {
    "colab_type": "text"
   },
   "source": [
    "Here's a preview of a few samples:"
   ]
  },
  {
   "cell_type": "code",
   "execution_count": 0,
   "metadata": {
    "colab_type": "code"
   },
   "outputs": [],
   "source": [
    "dataframe.head()"
   ]
  },
  {
   "cell_type": "markdown",
   "metadata": {
    "colab_type": "text"
   },
   "source": [
    "The last column, \"target\", indicates whether the patient\n",
    "has a heart disease (1) or not (0).\n",
    "\n",
    "Let's split the data into a training and validation set:"
   ]
  },
  {
   "cell_type": "code",
   "execution_count": 0,
   "metadata": {
    "colab_type": "code"
   },
   "outputs": [],
   "source": [
    "val_dataframe = dataframe.sample(frac=0.2, random_state=1337)\n",
    "train_dataframe = dataframe.drop(val_dataframe.index)\n",
    "\n",
    "print(\n",
    "    \"Using %d samples for training and %d for validation\"\n",
    "    % (len(train_dataframe), len(val_dataframe))\n",
    ")"
   ]
  },
  {
   "cell_type": "markdown",
   "metadata": {
    "colab_type": "text"
   },
   "source": [
    "Let's generate `tf.data.Dataset` objects for each dataframe:"
   ]
  },
  {
   "cell_type": "code",
   "execution_count": 0,
   "metadata": {
    "colab_type": "code"
   },
   "outputs": [],
   "source": [
    "\n",
    "def dataframe_to_dataset(dataframe):\n",
    "    dataframe = dataframe.copy()\n",
    "    labels = dataframe.pop(\"target\")\n",
    "    ds = tf.data.Dataset.from_tensor_slices((dict(dataframe), labels))\n",
    "    ds = ds.shuffle(buffer_size=len(dataframe))\n",
    "    return ds\n",
    "\n",
    "\n",
    "train_ds = dataframe_to_dataset(train_dataframe)\n",
    "val_ds = dataframe_to_dataset(val_dataframe)"
   ]
  },
  {
   "cell_type": "markdown",
   "metadata": {
    "colab_type": "text"
   },
   "source": [
    "Each `Dataset` yields a tuple `(input, target)` where `input` is a dictionary of features\n",
    "and `target` is the value `0` or `1`:"
   ]
  },
  {
   "cell_type": "code",
   "execution_count": 0,
   "metadata": {
    "colab_type": "code"
   },
   "outputs": [],
   "source": [
    "for x, y in train_ds.take(1):\n",
    "    print(\"Input:\", x)\n",
    "    print(\"Target:\", y)"
   ]
  },
  {
   "cell_type": "markdown",
   "metadata": {
    "colab_type": "text"
   },
   "source": [
    "Let's batch the datasets:"
   ]
  },
  {
   "cell_type": "code",
   "execution_count": 0,
   "metadata": {
    "colab_type": "code"
   },
   "outputs": [],
   "source": [
    "train_ds = train_ds.batch(32)\n",
    "val_ds = val_ds.batch(32)"
   ]
  },
  {
   "cell_type": "markdown",
   "metadata": {
    "colab_type": "text"
   },
   "source": [
    "## Configuring a `FeatureSpace`\n",
    "\n",
    "To configure how each feature should be preprocessed,\n",
    "we instantiate a `keras.utils.FeatureSpace`, and we\n",
    "pass to it a dictionary that maps the name of our features\n",
    "to a string that describes the feature type.\n",
    "\n",
    "We have a few \"integer categorical\" features such as `\"FBS\"`,\n",
    "one \"string categorical\" feature (`\"thal\"`),\n",
    "and a few numerical features, which we'd like to normalize\n",
    "-- except `\"age\"`, which we'd like to discretize into\n",
    "a number of bins.\n",
    "\n",
    "We also use the `crosses` argument\n",
    "to capture *feature interactions* for some categorical\n",
    "features, that is to say, create additional features\n",
    "that represent value co-occurrences for these categorical features.\n",
    "You can compute feature crosses like this for arbitrary sets of\n",
    "categorical features -- not just tuples of two features.\n",
    "Because the resulting co-occurences are hashed\n",
    "into a fixed-sized vector, you don't need to worry about whether\n",
    "the co-occurence space is too large."
   ]
  },
  {
   "cell_type": "code",
   "execution_count": 0,
   "metadata": {
    "colab_type": "code"
   },
   "outputs": [],
   "source": [
    "feature_space = FeatureSpace(\n",
    "    features={\n",
    "        # Categorical features encoded as integers\n",
    "        \"sex\": \"integer_categorical\",\n",
    "        \"cp\": \"integer_categorical\",\n",
    "        \"fbs\": \"integer_categorical\",\n",
    "        \"restecg\": \"integer_categorical\",\n",
    "        \"exang\": \"integer_categorical\",\n",
    "        \"ca\": \"integer_categorical\",\n",
    "        # Categorical feature encoded as string\n",
    "        \"thal\": \"string_categorical\",\n",
    "        # Numerical features to discretize\n",
    "        \"age\": \"float_discretized\",\n",
    "        # Numerical features to normalize\n",
    "        \"trestbps\": \"float_normalized\",\n",
    "        \"chol\": \"float_normalized\",\n",
    "        \"thalach\": \"float_normalized\",\n",
    "        \"oldpeak\": \"float_normalized\",\n",
    "        \"slope\": \"float_normalized\",\n",
    "    },\n",
    "    # We create additional features by hashing\n",
    "    # value co-occurrences for the\n",
    "    # following groups of categorical features.\n",
    "    crosses=[(\"sex\", \"age\"), (\"thal\", \"ca\")],\n",
    "    # The hashing space for these co-occurrences\n",
    "    # wil be 32-dimensional.\n",
    "    crossing_dim=32,\n",
    "    # Our utility will one-hot encode all categorical\n",
    "    # features and concat all features into a single\n",
    "    # vector (one vector per sample).\n",
    "    output_mode=\"concat\",\n",
    ")"
   ]
  },
  {
   "cell_type": "markdown",
   "metadata": {
    "colab_type": "text"
   },
   "source": [
    "## Further customizing a `FeatureSpace`\n",
    "\n",
    "Specifying the feature type via a string name is quick and easy,\n",
    "but sometimes you may want to further configure the preprocessing\n",
    "of each feature. For instance, in our case, our categorical\n",
    "features don't have a large set of possible values -- it's only\n",
    "a handful of values per feature (e.g. `1` and `0` for the feature `\"FBS\"`),\n",
    "and all possible values are represented in the training set.\n",
    "As a result, we don't need to reserve an index to represent \"out of vocabulary\" values\n",
    "for these features -- which would have been the default behavior.\n",
    "Below, we just specify `num_oov_indices=0` in each of these features\n",
    "to tell the feature preprocessor to skip \"out of vocabulary\" indexing.\n",
    "\n",
    "Other customizations you have access to include specifying the number of\n",
    "bins for discretizing features of type `\"float_discretized\"`,\n",
    "or the dimensionality of the hashing space for feature crossing."
   ]
  },
  {
   "cell_type": "code",
   "execution_count": 0,
   "metadata": {
    "colab_type": "code"
   },
   "outputs": [],
   "source": [
    "feature_space = FeatureSpace(\n",
    "    features={\n",
    "        # Categorical features encoded as integers\n",
    "        \"sex\": FeatureSpace.integer_categorical(num_oov_indices=0),\n",
    "        \"cp\": FeatureSpace.integer_categorical(num_oov_indices=0),\n",
    "        \"fbs\": FeatureSpace.integer_categorical(num_oov_indices=0),\n",
    "        \"restecg\": FeatureSpace.integer_categorical(num_oov_indices=0),\n",
    "        \"exang\": FeatureSpace.integer_categorical(num_oov_indices=0),\n",
    "        \"ca\": FeatureSpace.integer_categorical(num_oov_indices=0),\n",
    "        # Categorical feature encoded as string\n",
    "        \"thal\": FeatureSpace.string_categorical(num_oov_indices=0),\n",
    "        # Numerical features to discretize\n",
    "        \"age\": FeatureSpace.float_discretized(num_bins=30),\n",
    "        # Numerical features to normalize\n",
    "        \"trestbps\": FeatureSpace.float_normalized(),\n",
    "        \"chol\": FeatureSpace.float_normalized(),\n",
    "        \"thalach\": FeatureSpace.float_normalized(),\n",
    "        \"oldpeak\": FeatureSpace.float_normalized(),\n",
    "        \"slope\": FeatureSpace.float_normalized(),\n",
    "    },\n",
    "    # Specify feature cross with a custom crossing dim.\n",
    "    crosses=[\n",
    "        FeatureSpace.cross(feature_names=(\"sex\", \"age\"), crossing_dim=64),\n",
    "        FeatureSpace.cross(\n",
    "            feature_names=(\"thal\", \"ca\"),\n",
    "            crossing_dim=16,\n",
    "        ),\n",
    "    ],\n",
    "    output_mode=\"concat\",\n",
    ")"
   ]
  },
  {
   "cell_type": "markdown",
   "metadata": {
    "colab_type": "text"
   },
   "source": [
    "## Adapt the `FeatureSpace` to the training data\n",
    "\n",
    "Before we start using the `FeatureSpace` to build a model, we have\n",
    "to adapt it to the training data. During `adapt()`, the `FeatureSpace` will:\n",
    "\n",
    "- Index the set of possible values for categorical features.\n",
    "- Compute the mean and variance for numerical features to normalize.\n",
    "- Compute the value boundaries for the different bins for numerical features to discretize.\n",
    "\n",
    "Note that `adapt()` should be called on a `tf.data.Dataset` which yields dicts\n",
    "of feature values -- no labels."
   ]
  },
  {
   "cell_type": "code",
   "execution_count": 0,
   "metadata": {
    "colab_type": "code"
   },
   "outputs": [],
   "source": [
    "train_ds_with_no_labels = train_ds.map(lambda x, _: x)\n",
    "feature_space.adapt(train_ds_with_no_labels)"
   ]
  },
  {
   "cell_type": "markdown",
   "metadata": {
    "colab_type": "text"
   },
   "source": [
    "At this point, the `FeatureSpace` can be called on a dict of raw feature values, and will return a\n",
    "single concatenate vector for each sample, combining encoded features and feature crosses."
   ]
  },
  {
   "cell_type": "code",
   "execution_count": 0,
   "metadata": {
    "colab_type": "code"
   },
   "outputs": [],
   "source": [
    "for x, _ in train_ds.take(1):\n",
    "    preprocessed_x = feature_space(x)\n",
    "    print(\"preprocessed_x.shape:\", preprocessed_x.shape)\n",
    "    print(\"preprocessed_x.dtype:\", preprocessed_x.dtype)"
   ]
  },
  {
   "cell_type": "markdown",
   "metadata": {
    "colab_type": "text"
   },
   "source": [
    "## Two ways to manage preprocessing: as part of the `tf.data` pipeline, or in the model itself\n",
    "\n",
    "There are two ways in which you can leverage your `FeatureSpace`:\n",
    "\n",
    "### Asynchronous preprocessing in `tf.data`\n",
    "\n",
    "You can make it part of your data pipeline, before the model. This enables asynchronous parallel\n",
    "preprocessing of the data on CPU before it hits the model. Do this if you're training on GPU or TPU,\n",
    "or if you want to speed up preprocessing. Usually, this is always the right thing to do during training.\n",
    "\n",
    "### Synchronous preprocessing in the model\n",
    "\n",
    "You can make it part of your model. This means that the model will expect dicts of raw feature\n",
    "values, and the preprocessing batch will be done synchronously (in a blocking manner) before the\n",
    "rest of the forward pass. Do this if you want to have an end-to-end model that can process\n",
    "raw feature values -- but keep in mind that your model will only be able to run on CPU,\n",
    "since most types of feature preprocessing (e.g. string preprocessing) are not GPU or TPU compatible.\n",
    "\n",
    "Do not do this on GPU / TPU or in performance-sensitive settings. In general, you want to do in-model\n",
    "preprocessing when you do inference on CPU.\n",
    "\n",
    "In our case, we will apply the `FeatureSpace` in the tf.data pipeline during training, but we will\n",
    "do inference with an end-to-end model that includes the `FeatureSpace`."
   ]
  },
  {
   "cell_type": "markdown",
   "metadata": {
    "colab_type": "text"
   },
   "source": [
    "Let's create a training and validation dataset of preprocessed batches:"
   ]
  },
  {
   "cell_type": "code",
   "execution_count": 0,
   "metadata": {
    "colab_type": "code"
   },
   "outputs": [],
   "source": [
    "preprocessed_train_ds = train_ds.map(\n",
    "    lambda x, y: (feature_space(x), y), num_parallel_calls=tf.data.AUTOTUNE\n",
    ")\n",
    "preprocessed_train_ds = preprocessed_train_ds.prefetch(tf.data.AUTOTUNE)\n",
    "\n",
    "preprocessed_val_ds = val_ds.map(\n",
    "    lambda x, y: (feature_space(x), y), num_parallel_calls=tf.data.AUTOTUNE\n",
    ")\n",
    "preprocessed_val_ds = preprocessed_val_ds.prefetch(tf.data.AUTOTUNE)"
   ]
  },
  {
   "cell_type": "markdown",
   "metadata": {
    "colab_type": "text"
   },
   "source": [
    "## Build a model\n",
    "\n",
    "Time to build a model -- or rather two models:\n",
    "\n",
    "- A training model that expects preprocessed features (one sample = one vector)\n",
    "- An inference model that expects raw features (one sample = dict of raw feature values)"
   ]
  },
  {
   "cell_type": "code",
   "execution_count": 0,
   "metadata": {
    "colab_type": "code"
   },
   "outputs": [],
   "source": [
    "dict_inputs = feature_space.get_inputs()\n",
    "encoded_features = feature_space.get_encoded_features()\n",
    "\n",
    "x = keras.layers.Dense(32, activation=\"relu\")(encoded_features)\n",
    "x = keras.layers.Dropout(0.5)(x)\n",
    "predictions = keras.layers.Dense(1, activation=\"sigmoid\")(x)\n",
    "\n",
    "training_model = keras.Model(inputs=encoded_features, outputs=predictions)\n",
    "training_model.compile(\n",
    "    optimizer=\"adam\", loss=\"binary_crossentropy\", metrics=[\"accuracy\"]\n",
    ")\n",
    "\n",
    "inference_model = keras.Model(inputs=dict_inputs, outputs=predictions)"
   ]
  },
  {
   "cell_type": "markdown",
   "metadata": {
    "colab_type": "text"
   },
   "source": [
    "## Train the model\n",
    "\n",
    "Let's train our model for 50 epochs. Note that feature preprocessing is happening\n",
    "as part of the tf.data pipeline, not as part of the model."
   ]
  },
  {
   "cell_type": "code",
   "execution_count": 0,
   "metadata": {
    "colab_type": "code"
   },
   "outputs": [],
   "source": [
    "training_model.fit(\n",
    "    preprocessed_train_ds,\n",
    "    epochs=20,\n",
    "    validation_data=preprocessed_val_ds,\n",
    "    verbose=2,\n",
    ")"
   ]
  },
  {
   "cell_type": "markdown",
   "metadata": {
    "colab_type": "text"
   },
   "source": [
    "We quickly get to 80% validation accuracy."
   ]
  },
  {
   "cell_type": "markdown",
   "metadata": {
    "colab_type": "text"
   },
   "source": [
    "## Inference on new data with the end-to-end model\n",
    "\n",
    "Now, we can use our inference model (which includes the `FeatureSpace`)\n",
    "to make predictions based on dicts of raw features values, as follows:"
   ]
  },
  {
   "cell_type": "code",
   "execution_count": 0,
   "metadata": {
    "colab_type": "code"
   },
   "outputs": [],
   "source": [
    "sample = {\n",
    "    \"age\": 60,\n",
    "    \"sex\": 1,\n",
    "    \"cp\": 1,\n",
    "    \"trestbps\": 145,\n",
    "    \"chol\": 233,\n",
    "    \"fbs\": 1,\n",
    "    \"restecg\": 2,\n",
    "    \"thalach\": 150,\n",
    "    \"exang\": 0,\n",
    "    \"oldpeak\": 2.3,\n",
    "    \"slope\": 3,\n",
    "    \"ca\": 0,\n",
    "    \"thal\": \"fixed\",\n",
    "}\n",
    "\n",
    "input_dict = {name: tf.convert_to_tensor([value]) for name, value in sample.items()}\n",
    "predictions = inference_model.predict(input_dict)\n",
    "\n",
    "print(\n",
    "    f\"This particular patient had a {100 * predictions[0][0]:.2f}% probability \"\n",
    "    \"of having a heart disease, as evaluated by our model.\"\n",
    ")"
   ]
  }
 ],
 "metadata": {
  "accelerator": "GPU",
  "colab": {
   "collapsed_sections": [],
   "name": "structured_data_classification_with_feature_space",
   "private_outputs": false,
   "provenance": [],
   "toc_visible": true
  },
  "kernelspec": {
   "display_name": "Python 3",
   "language": "python",
   "name": "python3"
  },
  "language_info": {
   "codemirror_mode": {
    "name": "ipython",
    "version": 3
   },
   "file_extension": ".py",
   "mimetype": "text/x-python",
   "name": "python",
   "nbconvert_exporter": "python",
   "pygments_lexer": "ipython3",
   "version": "3.7.0"
  }
 },
 "nbformat": 4,
 "nbformat_minor": 0
}