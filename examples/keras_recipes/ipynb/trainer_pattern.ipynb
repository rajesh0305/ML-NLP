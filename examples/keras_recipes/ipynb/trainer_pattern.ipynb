{
 "cells": [
  {
   "cell_type": "markdown",
   "metadata": {
    "colab_type": "text"
   },
   "source": [
    "# Trainer pattern\n",
    "\n",
    "**Author:** [nkovela1](https://nkovela1.github.io/)<br>\n",
    "**Date created:** 2022/09/19<br>\n",
    "**Last modified:** 2022/09/26<br>\n",
    "**Description:** Guide on how to share a custom training step across multiple Keras models."
   ]
  },
  {
   "cell_type": "markdown",
   "metadata": {
    "colab_type": "text"
   },
   "source": [
    "## Introduction\n",
    "\n",
    "This example shows how to create a custom training step using the \"Trainer pattern\",\n",
    "which can then be shared across multiple Keras models. This pattern overrides the\n",
    "`train_step()` method of the `keras.Model` class, allowing for training loops\n",
    "beyond plain supervised learning.\n",
    "\n",
    "The Trainer pattern can also easily be adapted to more complex models with larger\n",
    "custom training steps, such as\n",
    "[this end-to-end GAN model](https://keras.io/guides/custom_train_step_in_tensorflow/#wrapping-up-an-endtoend-gan-example),\n",
    "by putting the custom training step in the Trainer class definition."
   ]
  },
  {
   "cell_type": "markdown",
   "metadata": {
    "colab_type": "text"
   },
   "source": [
    "## Setup"
   ]
  },
  {
   "cell_type": "code",
   "execution_count": null,
   "metadata": {
    "colab_type": "code"
   },
   "outputs": [],
   "source": [
    "import os\n",
    "\n",
    "os.environ[\"KERAS_BACKEND\"] = \"tensorflow\"\n",
    "\n",
    "import tensorflow as tf\n",
    "import keras\n",
    "\n",
    "# Load MNIST dataset and standardize the data\n",
    "mnist = keras.datasets.mnist\n",
    "(x_train, y_train), (x_test, y_test) = mnist.load_data()\n",
    "x_train, x_test = x_train / 255.0, x_test / 255.0\n"
   ]
  },
  {
   "cell_type": "markdown",
   "metadata": {
    "colab_type": "text"
   },
   "source": [
    "## Define the Trainer class\n",
    "\n",
    "A custom training and evaluation step can be created by overriding\n",
    "the `train_step()` and `test_step()` method of a `Model` subclass:"
   ]
  },
  {
   "cell_type": "code",
   "execution_count": null,
   "metadata": {
    "colab_type": "code"
   },
   "outputs": [],
   "source": [
    "\n",
    "class MyTrainer(keras.Model):\n",
    "    def __init__(self, model):\n",
    "        super().__init__()\n",
    "        self.model = model\n",
    "        # Create loss and metrics here.\n",
    "        self.loss_fn = keras.losses.SparseCategoricalCrossentropy()\n",
    "        self.accuracy_metric = keras.metrics.SparseCategoricalAccuracy()\n",
    "\n",
    "    @property\n",
    "    def metrics(self):\n",
    "        # List metrics here.\n",
    "        return [self.accuracy_metric]\n",
    "\n",
    "    def train_step(self, data):\n",
    "        x, y = data\n",
    "        with tf.GradientTape() as tape:\n",
    "            y_pred = self.model(x, training=True)  # Forward pass\n",
    "            # Compute loss value\n",
    "            loss = self.loss_fn(y, y_pred)\n",
    "\n",
    "        # Compute gradients\n",
    "        trainable_vars = self.trainable_variables\n",
    "        gradients = tape.gradient(loss, trainable_vars)\n",
    "\n",
    "        # Update weights\n",
    "        self.optimizer.apply_gradients(zip(gradients, trainable_vars))\n",
    "\n",
    "        # Update metrics\n",
    "        for metric in self.metrics:\n",
    "            metric.update_state(y, y_pred)\n",
    "\n",
    "        # Return a dict mapping metric names to current value.\n",
    "        return {m.name: m.result() for m in self.metrics}\n",
    "\n",
    "    def test_step(self, data):\n",
    "        x, y = data\n",
    "\n",
    "        # Inference step\n",
    "        y_pred = self.model(x, training=False)\n",
    "\n",
    "        # Update metrics\n",
    "        for metric in self.metrics:\n",
    "            metric.update_state(y, y_pred)\n",
    "        return {m.name: m.result() for m in self.metrics}\n",
    "\n",
    "    def call(self, x):\n",
    "        # Equivalent to `call()` of the wrapped keras.Model\n",
    "        x = self.model(x)\n",
    "        return x\n"
   ]
  },
  {
   "cell_type": "markdown",
   "metadata": {
    "colab_type": "text"
   },
   "source": [
    "## Define multiple models to share the custom training step\n",
    "\n",
    "Let's define two different models that can share our Trainer class and its custom `train_step()`:"
   ]
  },
  {
   "cell_type": "code",
   "execution_count": null,
   "metadata": {
    "colab_type": "code"
   },
   "outputs": [],
   "source": [
    "# A model defined using Sequential API\n",
    "model_a = keras.models.Sequential(\n",
    "    [\n",
    "        keras.layers.Flatten(input_shape=(28, 28)),\n",
    "        keras.layers.Dense(256, activation=\"relu\"),\n",
    "        keras.layers.Dropout(0.2),\n",
    "        keras.layers.Dense(10, activation=\"softmax\"),\n",
    "    ]\n",
    ")\n",
    "\n",
    "# A model defined using Functional API\n",
    "func_input = keras.Input(shape=(28, 28, 1))\n",
    "x = keras.layers.Flatten(input_shape=(28, 28))(func_input)\n",
    "x = keras.layers.Dense(512, activation=\"relu\")(x)\n",
    "x = keras.layers.Dropout(0.4)(x)\n",
    "func_output = keras.layers.Dense(10, activation=\"softmax\")(x)\n",
    "\n",
    "model_b = keras.Model(func_input, func_output)"
   ]
  },
  {
   "cell_type": "markdown",
   "metadata": {
    "colab_type": "text"
   },
   "source": [
    "## Create Trainer class objects from the models"
   ]
  },
  {
   "cell_type": "code",
   "execution_count": null,
   "metadata": {
    "colab_type": "code"
   },
   "outputs": [],
   "source": [
    "trainer_1 = MyTrainer(model_a)\n",
    "trainer_2 = MyTrainer(model_b)"
   ]
  },
  {
   "cell_type": "markdown",
   "metadata": {
    "colab_type": "text"
   },
   "source": [
    "## Compile and fit the models to the MNIST dataset"
   ]
  },
  {
   "cell_type": "code",
   "execution_count": null,
   "metadata": {
    "colab_type": "code"
   },
   "outputs": [],
   "source": [
    "trainer_1.compile(optimizer=keras.optimizers.SGD())\n",
    "trainer_1.fit(\n",
    "    x_train, y_train, epochs=5, batch_size=64, validation_data=(x_test, y_test)\n",
    ")\n",
    "\n",
    "trainer_2.compile(optimizer=keras.optimizers.Adam())\n",
    "trainer_2.fit(\n",
    "    x_train, y_train, epochs=5, batch_size=64, validation_data=(x_test, y_test)\n",
    ")"
   ]
  }
 ],
 "metadata": {
  "accelerator": "GPU",
  "colab": {
   "collapsed_sections": [],
   "name": "trainer_pattern",
   "private_outputs": false,
   "provenance": [],
   "toc_visible": true
  },
  "kernelspec": {
   "display_name": "Python 3",
   "language": "python",
   "name": "python3"
  },
  "language_info": {
   "codemirror_mode": {
    "name": "ipython",
    "version": 3
   },
   "file_extension": ".py",
   "mimetype": "text/x-python",
   "name": "python",
   "nbconvert_exporter": "python",
   "pygments_lexer": "ipython3",
   "version": "3.7.0"
  }
 },
 "nbformat": 4,
 "nbformat_minor": 0
}
