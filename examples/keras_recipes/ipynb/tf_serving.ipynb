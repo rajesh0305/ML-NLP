{
 "cells": [
  {
   "cell_type": "markdown",
   "metadata": {
    "colab_type": "text"
   },
   "source": [
    "# Serving TensorFlow models with TFServing\n",
    "\n",
    "**Author:** [Dimitre Oliveira](https://www.linkedin.com/in/dimitre-oliveira-7a1a0113a/)<br>\n",
    "**Date created:** 2023/01/02<br>\n",
    "**Last modified:** 2023/01/02<br>\n",
    "**Description:** How to serve TensorFlow models with TensorFlow Serving."
   ]
  },
  {
   "cell_type": "markdown",
   "metadata": {
    "colab_type": "text"
   },
   "source": [
    "## Introduction\n",
    "\n",
    "Once you build a machine learning model, the next step is to serve it.\n",
    "You may want to do that by exposing your model as an endpoint service.\n",
    "There are many frameworks that you can use to do that, but the TensorFlow\n",
    "ecosystem has its own solution called\n",
    "[TensorFlow Serving](https://www.tensorflow.org/tfx/guide/serving).\n",
    "\n",
    "From the TensorFlow Serving\n",
    "[GitHub page](https://github.com/tensorflow/serving):\n",
    "\n",
    "> TensorFlow Serving is a flexible, high-performance serving system for machine\n",
    "learning models, designed for production environments. It deals with the\n",
    "inference aspect of machine learning, taking models after training and\n",
    "managing their lifetimes, providing clients with versioned access via a\n",
    "high-performance, reference-counted lookup table. TensorFlow Serving provides\n",
    "out-of-the-box integration with TensorFlow models, but can be easily extended\n",
    "to serve other types of models and data.\"\n",
    "\n",
    "To note a few features:\n",
    "\n",
    "- It can serve multiple models, or multiple versions of the same model\n",
    "simultaneously\n",
    "- It exposes both gRPC as well as HTTP inference endpoints\n",
    "- It allows deployment of new model versions without changing any client code\n",
    "- It supports canarying new versions and A/B testing experimental models\n",
    "- It adds minimal latency to inference time due to efficient, low-overhead\n",
    "implementation\n",
    "- It features a scheduler that groups individual inference requests into batches\n",
    "for joint execution on GPU, with configurable latency controls\n",
    "- It supports many servables: Tensorflow models, embeddings, vocabularies,\n",
    "feature transformations and even non-Tensorflow-based machine learning models\n",
    "\n",
    "This guide creates a simple [MobileNet](https://arxiv.org/abs/1704.04861)\n",
    "model using the [Keras applications API](https://keras.io/api/applications/),\n",
    "and then serves it with [TensorFlow Serving](https://www.tensorflow.org/tfx/guide/serving).\n",
    "The focus is on TensorFlow Serving, rather than the modeling and training in\n",
    "TensorFlow.\n",
    "\n",
    "> Note: you can find a Colab notebook with the full working code at\n",
    "[this link](https://colab.research.google.com/drive/1nwuIJa4so1XzYU0ngq8tX_-SGTO295Mu?usp=sharing)."
   ]
  },
  {
   "cell_type": "markdown",
   "metadata": {
    "colab_type": "text"
   },
   "source": [
    "## Dependencies"
   ]
  },
  {
   "cell_type": "code",
   "execution_count": null,
   "metadata": {
    "colab_type": "code"
   },
   "outputs": [],
   "source": [
    "import os\n",
    "\n",
    "os.environ[\"KERAS_BACKEND\"] = \"tensorflow\"\n",
    "\n",
    "import json\n",
    "import shutil\n",
    "import requests\n",
    "import numpy as np\n",
    "import tensorflow as tf\n",
    "import keras\n",
    "import matplotlib.pyplot as plt"
   ]
  },
  {
   "cell_type": "markdown",
   "metadata": {
    "colab_type": "text"
   },
   "source": [
    "## Model\n",
    "\n",
    "Here we load a pre-trained [MobileNet](https://arxiv.org/abs/1704.04861)\n",
    "from the [Keras applications](https://keras.io/api/applications/), this is the\n",
    "model that we are going to serve."
   ]
  },
  {
   "cell_type": "code",
   "execution_count": null,
   "metadata": {
    "colab_type": "code"
   },
   "outputs": [],
   "source": [
    "model = keras.applications.MobileNet()"
   ]
  },
  {
   "cell_type": "markdown",
   "metadata": {
    "colab_type": "text"
   },
   "source": [
    "## Preprocessing\n",
    "\n",
    "Most models don't work out of the box on raw data, they usually require some\n",
    "kind of preprocessing step to adjust the data to the model requirements,\n",
    "in the case of this MobileNet we can see from its\n",
    "[API page](https://keras.io/api/applications/mobilenet/) that it requires\n",
    "three basic steps for its input images:\n",
    "\n",
    "- Pixel values normalized to the `[0, 1]` range\n",
    "- Pixel values scaled to the `[-1, 1]` range\n",
    "- Images with the shape of `(224, 224, 3)` meaning `(height, width, channels)`\n",
    "\n",
    "We can do all of that with the following function:"
   ]
  },
  {
   "cell_type": "code",
   "execution_count": null,
   "metadata": {
    "colab_type": "code"
   },
   "outputs": [],
   "source": [
    "\n",
    "def preprocess(image, mean=0.5, std=0.5, shape=(224, 224)):\n",
    "    \"\"\"Scale, normalize and resizes images.\"\"\"\n",
    "    image = image / 255.0  # Scale\n",
    "    image = (image - mean) / std  # Normalize\n",
    "    image = tf.image.resize(image, shape)  # Resize\n",
    "    return image\n"
   ]
  },
  {
   "cell_type": "markdown",
   "metadata": {
    "colab_type": "text"
   },
   "source": [
    "**A note regarding preprocessing and postprocessing using the \"keras.applications\" API**\n",
    "\n",
    "All models that are available at the [Keras applications](https://keras.io/api/applications/)\n",
    "API also provide `preprocess_input` and `decode_predictions` functions, those\n",
    "functions are respectively responsible for the preprocessing and postprocessing\n",
    "of each model, and already contains all the logic necessary for those steps.\n",
    "That is the recommended way to process inputs and outputs when using Keras\n",
    "applications models.\n",
    "For this guide, we are not using them to present the advantages of custom\n",
    "signatures in a clearer way."
   ]
  },
  {
   "cell_type": "markdown",
   "metadata": {
    "colab_type": "text"
   },
   "source": [
    "## Postprocessing\n",
    "\n",
    "In the same context most models output values that need extra processing to\n",
    "meet the user requirements, for instance, the user does not want to know the\n",
    "logits values for each class given an image, what the user wants is to know\n",
    "from which class it belongs. For our model, this translates to the following\n",
    "transformations on top of the model outputs:\n",
    "\n",
    "- Get the index of the class with the highest prediction\n",
    "- Get the name of the class from that index"
   ]
  },
  {
   "cell_type": "code",
   "execution_count": null,
   "metadata": {
    "colab_type": "code"
   },
   "outputs": [],
   "source": [
    "# Download human-readable labels for ImageNet.\n",
    "imagenet_labels_url = (\n",
    "    \"https://storage.googleapis.com/download.tensorflow.org/data/ImageNetLabels.txt\"\n",
    ")\n",
    "response = requests.get(imagenet_labels_url)\n",
    "# Skipping background class\n",
    "labels = [x for x in response.text.split(\"\\n\") if x != \"\"][1:]\n",
    "# Convert the labels to the TensorFlow data format\n",
    "tf_labels = tf.constant(labels, dtype=tf.string)\n",
    "\n",
    "\n",
    "def postprocess(prediction, labels=tf_labels):\n",
    "    \"\"\"Convert from probs to labels.\"\"\"\n",
    "    indices = tf.argmax(prediction, axis=-1)  # Index with highest prediction\n",
    "    label = tf.gather(params=labels, indices=indices)  # Class name\n",
    "    return label\n"
   ]
  },
  {
   "cell_type": "markdown",
   "metadata": {
    "colab_type": "text"
   },
   "source": [
    "Now let's download a banana picture and see how everything comes together."
   ]
  },
  {
   "cell_type": "code",
   "execution_count": null,
   "metadata": {
    "colab_type": "code"
   },
   "outputs": [],
   "source": [
    "response = requests.get(\"https://i.imgur.com/j9xCCzn.jpeg\", stream=True)\n",
    "\n",
    "with open(\"banana.jpeg\", \"wb\") as f:\n",
    "    shutil.copyfileobj(response.raw, f)\n",
    "\n",
    "sample_img = plt.imread(\"./banana.jpeg\")\n",
    "print(f\"Original image shape: {sample_img.shape}\")\n",
    "print(f\"Original image pixel range: ({sample_img.min()}, {sample_img.max()})\")\n",
    "plt.imshow(sample_img)\n",
    "plt.show()\n",
    "\n",
    "preprocess_img = preprocess(sample_img)\n",
    "print(f\"Preprocessed image shape: {preprocess_img.shape}\")\n",
    "print(\n",
    "    f\"Preprocessed image pixel range: ({preprocess_img.numpy().min()},\",\n",
    "    f\"{preprocess_img.numpy().max()})\",\n",
    ")\n",
    "\n",
    "batched_img = tf.expand_dims(preprocess_img, axis=0)\n",
    "batched_img = tf.cast(batched_img, tf.float32)\n",
    "print(f\"Batched image shape: {batched_img.shape}\")\n",
    "\n",
    "model_outputs = model(batched_img)\n",
    "print(f\"Model output shape: {model_outputs.shape}\")\n",
    "print(f\"Predicted class: {postprocess(model_outputs)}\")"
   ]
  },
  {
   "cell_type": "markdown",
   "metadata": {
    "colab_type": "text"
   },
   "source": [
    "## Save the model\n",
    "\n",
    "To load our trained model into TensorFlow Serving, we first need to save it in\n",
    "[SavedModel](https://www.tensorflow.org/versions/r1.15/api_docs/python/tf/saved_model)\n",
    "format. This will create a protobuf file in a well-defined directory hierarchy,\n",
    "and will include a version number.\n",
    "[TensorFlow Serving](https://www.tensorflow.org/tfx/guide/serving) allows us\n",
    "to select which version of a model, or \"servable\" we want to use when we make\n",
    "inference requests. Each version will be exported to a different sub-directory\n",
    "under the given path."
   ]
  },
  {
   "cell_type": "code",
   "execution_count": null,
   "metadata": {
    "colab_type": "code"
   },
   "outputs": [],
   "source": [
    "model_dir = \"./model\"\n",
    "model_version = 1\n",
    "model_export_path = f\"{model_dir}/{model_version}\"\n",
    "\n",
    "tf.saved_model.save(\n",
    "    model,\n",
    "    export_dir=model_export_path,\n",
    ")\n",
    "\n",
    "print(f\"SavedModel files: {os.listdir(model_export_path)}\")"
   ]
  },
  {
   "cell_type": "markdown",
   "metadata": {
    "colab_type": "text"
   },
   "source": [
    "## Examine your saved model\n",
    "\n",
    "We'll use the command line utility `saved_model_cli` to look at the\n",
    "[MetaGraphDefs](https://www.tensorflow.org/versions/r1.15/api_docs/python/tf/MetaGraphDef)\n",
    "(the models) and [SignatureDefs](https://www.tensorflow.org/tfx/serving/signature_defs)\n",
    "(the methods you can call) in our SavedModel. See\n",
    "[this discussion of the SavedModel CLI](https://github.com/tensorflow/docs/blob/master/site/en/r1/guide/saved_model.md#cli-to-inspect-and-execute-savedmodel)\n",
    "in the TensorFlow Guide."
   ]
  },
  {
   "cell_type": "code",
   "execution_count": null,
   "metadata": {
    "colab_type": "code"
   },
   "outputs": [],
   "source": [
    "!saved_model_cli show --dir {model_export_path} --tag_set serve --signature_def serving_default"
   ]
  },
  {
   "cell_type": "markdown",
   "metadata": {
    "colab_type": "text"
   },
   "source": [
    "That tells us a lot about our model! For instance, we can see that its inputs\n",
    "have a 4D shape `(-1, 224, 224, 3)` which means\n",
    "`(batch_size, height, width, channels)`, also note that this model requires a\n",
    "specific image shape `(224, 224, 3)` this means that we may need to reshape\n",
    "our images before sending them to the model. We can also see that the model's\n",
    "outputs have a `(-1, 1000)` shape which are the logits for the 1000 classes of\n",
    "the [ImageNet](https://www.image-net.org) dataset.\n",
    "\n",
    "This information doesn't tell us everything, like the fact that the pixel\n",
    "values needs to be in the `[-1, 1]` range, but it's a great start.\n",
    "\n",
    "## Serve your model with TensorFlow Serving\n",
    "\n",
    "### Install TFServing\n",
    "\n",
    "We're preparing to install TensorFlow Serving using\n",
    "[Aptitude](https://wiki.debian.org/Aptitude) since this Colab runs in a Debian\n",
    "environment. We'll add the `tensorflow-model-server` package to the list of\n",
    "packages that Aptitude knows about. Note that we're running as root.\n",
    "\n",
    "\n",
    "> Note: This example is running TensorFlow Serving natively, but [you can also\n",
    "run it in a Docker container](https://www.tensorflow.org/tfx/serving/docker),\n",
    "which is one of the easiest ways to get started using TensorFlow Serving.\n",
    "\n",
    "```shell\n",
    "wget 'http://storage.googleapis.com/tensorflow-serving-apt/pool/tensorflow-model-server-universal-2.8.0/t/tensorflow-model-server-universal/tensorflow-model-server-universal_2.8.0_all.deb'\n",
    "dpkg -i tensorflow-model-server-universal_2.8.0_all.deb\n",
    "```"
   ]
  },
  {
   "cell_type": "markdown",
   "metadata": {
    "colab_type": "text"
   },
   "source": [
    "### Start running TensorFlow Serving\n",
    "\n",
    "This is where we start running TensorFlow Serving and load our model. After it\n",
    "loads, we can start making inference requests using REST. There are some\n",
    "important parameters:\n",
    "\n",
    "- `port`: The port that you'll use for gRPC requests.\n",
    "- `rest_api_port`: The port that you'll use for REST requests.\n",
    "- `model_name`: You'll use this in the URL of REST requests. It can be\n",
    "anything.\n",
    "- `model_base_path`: This is the path to the directory where you've saved your\n",
    "model.\n",
    "\n",
    "Check the [TFServing API reference](https://github.com/tensorflow/serving/blob/master/tensorflow_serving/model_servers/main.cc)\n",
    "to get all the parameters available."
   ]
  },
  {
   "cell_type": "code",
   "execution_count": null,
   "metadata": {
    "colab_type": "code"
   },
   "outputs": [],
   "source": [
    "# Environment variable with the path to the model\n",
    "os.environ[\"MODEL_DIR\"] = f\"{model_dir}\""
   ]
  },
  {
   "cell_type": "markdown",
   "metadata": {
    "colab_type": "text"
   },
   "source": [
    "```shell\n",
    "%%bash --bg\n",
    "nohup tensorflow_model_server \\\n",
    "  --port=8500 \\\n",
    "  --rest_api_port=8501 \\\n",
    "  --model_name=model \\\n",
    "  --model_base_path=$MODEL_DIR >server.log 2>&1\n",
    "```\n",
    "\n",
    "```shell\n",
    "# We can check the logs to the server to help troubleshooting\n",
    "!cat server.log\n",
    "```\n",
    "outputs:\n",
    "```\n",
    "[warn] getaddrinfo: address family for nodename not supported\n",
    "[evhttp_server.cc : 245] NET_LOG: Entering the event loop ...\n",
    "```\n",
    "\n",
    "```shell\n",
    "# Now we can check if tensorflow is in the active services\n",
    "!sudo lsof -i -P -n | grep LISTEN\n",
    "```\n",
    "outputs:\n",
    "```\n",
    "node         7 root   21u  IPv6  19100      0t0  TCP *:8080 (LISTEN)\n",
    "kernel_ma   34 root    7u  IPv4  18874      0t0  TCP 172.28.0.12:6000 (LISTEN)\n",
    "colab-fil   63 root    5u  IPv4  17975      0t0  TCP *:3453 (LISTEN)\n",
    "colab-fil   63 root    6u  IPv6  17976      0t0  TCP *:3453 (LISTEN)\n",
    "jupyter-n   81 root    6u  IPv4  18092      0t0  TCP 172.28.0.12:9000 (LISTEN)\n",
    "python3    101 root   23u  IPv4  18252      0t0  TCP 127.0.0.1:44915 (LISTEN)\n",
    "python3    132 root    3u  IPv4  20548      0t0  TCP 127.0.0.1:15264 (LISTEN)\n",
    "python3    132 root    4u  IPv4  20549      0t0  TCP 127.0.0.1:37977 (LISTEN)\n",
    "python3    132 root    9u  IPv4  20662      0t0  TCP 127.0.0.1:40689 (LISTEN)\n",
    "tensorflo 1101 root    5u  IPv4  35543      0t0  TCP *:8500 (LISTEN)\n",
    "tensorflo 1101 root   12u  IPv4  35548      0t0  TCP *:8501 (LISTEN)\n",
    "```\n",
    "\n",
    "## Make a request to your model in TensorFlow Serving\n",
    "\n",
    "Now let's create the JSON object for an inference request, and see how well\n",
    "our model classifies it:\n",
    "\n",
    "### REST API\n",
    "\n",
    "#### Newest version of the servable\n",
    "\n",
    "We'll send a predict request as a POST to our server's REST endpoint, and pass\n",
    "it as an example. We'll ask our server to give us the latest version of our\n",
    "servable by not specifying a particular version."
   ]
  },
  {
   "cell_type": "code",
   "execution_count": null,
   "metadata": {
    "colab_type": "code"
   },
   "outputs": [],
   "source": [
    "data = json.dumps(\n",
    "    {\n",
    "        \"signature_name\": \"serving_default\",\n",
    "        \"instances\": batched_img.numpy().tolist(),\n",
    "    }\n",
    ")\n",
    "url = \"http://localhost:8501/v1/models/model:predict\"\n",
    "\n",
    "\n",
    "def predict_rest(json_data, url):\n",
    "    json_response = requests.post(url, data=json_data)\n",
    "    response = json.loads(json_response.text)\n",
    "    rest_outputs = np.array(response[\"predictions\"])\n",
    "    return rest_outputs\n"
   ]
  },
  {
   "cell_type": "markdown",
   "metadata": {
    "colab_type": "text"
   },
   "source": [
    "```python\n",
    "rest_outputs = predict_rest(data, url)\n",
    "\n",
    "print(f\"REST output shape: {rest_outputs.shape}\")\n",
    "print(f\"Predicted class: {postprocess(rest_outputs)}\")\n",
    "```\n",
    "\n",
    "outputs:\n",
    "```\n",
    "REST output shape: (1, 1000)\n",
    "Predicted class: [b'banana']\n",
    "```\n",
    "\n",
    "### gRPC API\n",
    "\n",
    "[gRPC](https://grpc.io/) is based on the Remote Procedure Call (RPC) model and\n",
    "is a technology for implementing RPC APIs that uses HTTP 2.0 as its underlying\n",
    "transport protocol. gRPC is usually preferred for low-latency, highly scalable,\n",
    "and distributed systems. If you wanna know more about the REST vs gRPC\n",
    "tradeoffs, checkout\n",
    "[this article](https://cloud.google.com/blog/products/api-management/understanding-grpc-openapi-and-rest-and-when-to-use-them)."
   ]
  },
  {
   "cell_type": "code",
   "execution_count": null,
   "metadata": {
    "colab_type": "code"
   },
   "outputs": [],
   "source": [
    "import grpc\n",
    "\n",
    "# Create a channel that will be connected to the gRPC port of the container\n",
    "channel = grpc.insecure_channel(\"localhost:8500\")"
   ]
  },
  {
   "cell_type": "markdown",
   "metadata": {
    "colab_type": "text"
   },
   "source": [
    "```shell\n",
    "pip install -q tensorflow_serving_api\n",
    "```\n",
    "\n",
    "```python\n",
    "from tensorflow_serving.apis import predict_pb2, prediction_service_pb2_grpc\n",
    "\n",
    "# Create a stub made for prediction\n",
    "# This stub will be used to send the gRPCrequest to the TF Server\n",
    "stub = prediction_service_pb2_grpc.PredictionServiceStub(channel)\n",
    "```"
   ]
  },
  {
   "cell_type": "code",
   "execution_count": null,
   "metadata": {
    "colab_type": "code"
   },
   "outputs": [],
   "source": [
    "# Get the serving_input key\n",
    "loaded_model = tf.saved_model.load(model_export_path)\n",
    "input_name = list(\n",
    "    loaded_model.signatures[\"serving_default\"].structured_input_signature[1].keys()\n",
    ")[0]\n"
   ]
  },
  {
   "cell_type": "markdown",
   "metadata": {
    "colab_type": "text"
   },
   "source": [
    "```python\n",
    "def predict_grpc(data, input_name, stub):\n",
    "    # Create a gRPC request made for prediction\n",
    "    request = predict_pb2.PredictRequest()\n",
    "\n",
    "    # Set the name of the model, for this use case it is \"model\"\n",
    "    request.model_spec.name = \"model\"\n",
    "\n",
    "    # Set which signature is used to format the gRPC query\n",
    "    # here the default one \"serving_default\"\n",
    "    request.model_spec.signature_name = \"serving_default\"\n",
    "\n",
    "    # Set the input as the data\n",
    "    # tf.make_tensor_proto turns a TensorFlow tensor into a Protobuf tensor\n",
    "    request.inputs[input_name].CopyFrom(tf.make_tensor_proto(data.numpy().tolist()))\n",
    "\n",
    "    # Send the gRPC request to the TF Server\n",
    "    result = stub.Predict(request)\n",
    "    return result\n",
    "\n",
    "\n",
    "grpc_outputs = predict_grpc(batched_img, input_name, stub)\n",
    "grpc_outputs = np.array([grpc_outputs.outputs['predictions'].float_val])\n",
    "\n",
    "print(f\"gRPC output shape: {grpc_outputs.shape}\")\n",
    "print(f\"Predicted class: {postprocess(grpc_outputs)}\")\n",
    "```\n",
    "\n",
    "outputs:\n",
    "```\n",
    "gRPC output shape: (1, 1000)\n",
    "Predicted class: [b'banana']\n",
    "```"
   ]
  },
  {
   "cell_type": "markdown",
   "metadata": {
    "colab_type": "text"
   },
   "source": [
    "## Custom signature\n",
    "\n",
    "Note that for this model we always need to preprocess and postprocess all\n",
    "samples to get the desired output, this can get quite tricky if are\n",
    "maintaining and serving several models developed by a large team, and each one\n",
    "of them might require different processing logic.\n",
    "\n",
    "TensorFlow allows us to customize the model graph to embed all of that\n",
    "processing logic, which makes model serving much easier, there are different\n",
    "ways to achieve this, but since we are going to server the models using\n",
    "TFServing we can customize the model graph straight into the serving signature.\n",
    "\n",
    "We can just use the following code to export the same model that already\n",
    "contains the preprocessing and postprocessing logic as the default signature,\n",
    "this allows this model to make predictions on raw data."
   ]
  },
  {
   "cell_type": "code",
   "execution_count": null,
   "metadata": {
    "colab_type": "code"
   },
   "outputs": [],
   "source": [
    "\n",
    "def export_model(model, labels):\n",
    "    @tf.function(input_signature=[tf.TensorSpec([None, None, None, 3], tf.float32)])\n",
    "    def serving_fn(image):\n",
    "        processed_img = preprocess(image)\n",
    "        probs = model(processed_img)\n",
    "        label = postprocess(probs)\n",
    "        return {\"label\": label}\n",
    "\n",
    "    return serving_fn\n",
    "\n",
    "\n",
    "model_sig_version = 2\n",
    "model_sig_export_path = f\"{model_dir}/{model_sig_version}\"\n",
    "\n",
    "tf.saved_model.save(\n",
    "    model,\n",
    "    export_dir=model_sig_export_path,\n",
    "    signatures={\"serving_default\": export_model(model, labels)},\n",
    ")"
   ]
  },
  {
   "cell_type": "code",
   "execution_count": null,
   "metadata": {
    "colab_type": "code"
   },
   "outputs": [],
   "source": [
    "!saved_model_cli show --dir {model_sig_export_path} --tag_set serve --signature_def serving_default"
   ]
  },
  {
   "cell_type": "markdown",
   "metadata": {
    "colab_type": "text"
   },
   "source": [
    "Note that this model has a different signature, its input is still 4D but now\n",
    "with a `(-1, -1, -1, 3)` shape, which means that it supports images with any\n",
    "height and width size. Its output also has a different shape, it no longer\n",
    "outputs the 1000-long logits.\n",
    "\n",
    "We can test the model's prediction using a specific signature using this API\n",
    "below:"
   ]
  },
  {
   "cell_type": "code",
   "execution_count": null,
   "metadata": {
    "colab_type": "code"
   },
   "outputs": [],
   "source": [
    "batched_raw_img = tf.expand_dims(sample_img, axis=0)\n",
    "batched_raw_img = tf.cast(batched_raw_img, tf.float32)\n",
    "\n",
    "loaded_model = tf.saved_model.load(model_sig_export_path)\n",
    "loaded_model.signatures[\"serving_default\"](**{\"image\": batched_raw_img})"
   ]
  },
  {
   "cell_type": "markdown",
   "metadata": {
    "colab_type": "text"
   },
   "source": [
    "## Prediction using a particular version of the servable\n",
    "\n",
    "Now let's specify a particular version of our servable. Note that when we\n",
    "saved the model with a custom signature we used a different folder, the first\n",
    "model was saved in folder `/1` (version 1), and the one with a custom\n",
    "signature in folder `/2` (version 2). By default, TFServing will serve all\n",
    "models that share the same base parent folder.\n",
    "\n",
    "### REST API"
   ]
  },
  {
   "cell_type": "code",
   "execution_count": null,
   "metadata": {
    "colab_type": "code"
   },
   "outputs": [],
   "source": [
    "data = json.dumps(\n",
    "    {\n",
    "        \"signature_name\": \"serving_default\",\n",
    "        \"instances\": batched_raw_img.numpy().tolist(),\n",
    "    }\n",
    ")\n",
    "url_sig = \"http://localhost:8501/v1/models/model/versions/2:predict\""
   ]
  },
  {
   "cell_type": "markdown",
   "metadata": {
    "colab_type": "text"
   },
   "source": [
    "```python\n",
    "print(f\"REST output shape: {rest_outputs.shape}\")\n",
    "print(f\"Predicted class: {rest_outputs}\")\n",
    "```\n",
    "\n",
    "outputs:\n",
    "```\n",
    "REST output shape: (1,)\n",
    "Predicted class: ['banana']\n",
    "```\n",
    "\n",
    "### gRPC API"
   ]
  },
  {
   "cell_type": "markdown",
   "metadata": {
    "colab_type": "text"
   },
   "source": [
    "```python\n",
    "channel = grpc.insecure_channel(\"localhost:8500\")\n",
    "stub = prediction_service_pb2_grpc.PredictionServiceStub(channel)\n",
    "```"
   ]
  },
  {
   "cell_type": "code",
   "execution_count": null,
   "metadata": {
    "colab_type": "code"
   },
   "outputs": [],
   "source": [
    "input_name = list(\n",
    "    loaded_model.signatures[\"serving_default\"].structured_input_signature[1].keys()\n",
    ")[0]"
   ]
  },
  {
   "cell_type": "markdown",
   "metadata": {
    "colab_type": "text"
   },
   "source": [
    "```python\n",
    "grpc_outputs = predict_grpc(batched_raw_img, input_name, stub)\n",
    "grpc_outputs = np.array([grpc_outputs.outputs['label'].string_val])\n",
    "\n",
    "print(f\"gRPC output shape: {grpc_outputs.shape}\")\n",
    "print(f\"Predicted class: {grpc_outputs}\")\n",
    "```\n",
    "\n",
    "outputs:\n",
    "\n",
    "```\n",
    "gRPC output shape: (1, 1)\n",
    "Predicted class: [[b'banana']]\n",
    "```\n",
    "\n",
    "## Additional resources\n",
    "\n",
    "- [Colab notebook with the full working code](https://colab.research.google.com/drive/1nwuIJa4so1XzYU0ngq8tX_-SGTO295Mu?usp=sharing)\n",
    "- [Train and serve a TensorFlow model with TensorFlow Serving - TensorFlow blog](https://www.tensorflow.org/tfx/tutorials/serving/rest_simple#make_a_request_to_your_model_in_tensorflow_serving)\n",
    "- [TensorFlow Serving playlist - TensorFlow YouTube channel](https://www.youtube.com/playlist?list=PLQY2H8rRoyvwHdpVQVohY7-qcYf2s1UYK)"
   ]
  }
 ],
 "metadata": {
  "accelerator": "None",
  "colab": {
   "collapsed_sections": [],
   "name": "tf_serving",
   "private_outputs": false,
   "provenance": [],
   "toc_visible": true
  },
  "kernelspec": {
   "display_name": "Python 3",
   "language": "python",
   "name": "python3"
  },
  "language_info": {
   "codemirror_mode": {
    "name": "ipython",
    "version": 3
   },
   "file_extension": ".py",
   "mimetype": "text/x-python",
   "name": "python",
   "nbconvert_exporter": "python",
   "pygments_lexer": "ipython3",
   "version": "3.7.0"
  }
 },
 "nbformat": 4,
 "nbformat_minor": 0
}
