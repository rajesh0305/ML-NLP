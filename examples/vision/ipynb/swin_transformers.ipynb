{
 "cells": [
  {
   "cell_type": "markdown",
   "metadata": {
    "colab_type": "text"
   },
   "source": [
    "# Image classification with Swin Transformers\n",
    "\n",
    "**Author:** [Rishit Dagli](https://twitter.com/rishit_dagli)<br>\n",
    "**Date created:** 2021/09/08<br>\n",
    "**Last modified:** 2021/09/08<br>\n",
    "**Description:** Image classification using Swin Transformers, a general-purpose backbone for computer vision."
   ]
  },
  {
   "cell_type": "markdown",
   "metadata": {
    "colab_type": "text"
   },
   "source": [
    "This example implements\n",
    "[Swin Transformer: Hierarchical Vision Transformer using Shifted Windows](https://arxiv.org/abs/2103.14030)\n",
    "by Liu et al. for image classification, and demonstrates it on the\n",
    "[CIFAR-100 dataset](https://www.cs.toronto.edu/~kriz/cifar.html).\n",
    "\n",
    "Swin Transformer (**S**hifted **Win**dow Transformer) can serve as a\n",
    "general-purpose backbone for computer vision. Swin Transformer is a hierarchical\n",
    "Transformer whose representations are computed with _shifted windows_. The\n",
    "shifted window scheme brings greater efficiency by limiting self-attention\n",
    "computation to non-overlapping local windows while also allowing for\n",
    "cross-window connections. This architecture has the flexibility to model\n",
    "information at various scales and has a linear computational complexity with\n",
    "respect to image size.\n",
    "\n",
    "This example requires TensorFlow 2.5 or higher."
   ]
  },
  {
   "cell_type": "markdown",
   "metadata": {
    "colab_type": "text"
   },
   "source": [
    "## Setup"
   ]
  },
  {
   "cell_type": "code",
   "execution_count": 0,
   "metadata": {
    "colab_type": "code"
   },
   "outputs": [],
   "source": [
    "import matplotlib.pyplot as plt\n",
    "import numpy as np\n",
    "import tensorflow as tf  # For tf.data and preprocessing only.\n",
    "import keras\n",
    "from keras import layers\n",
    "from keras import ops"
   ]
  },
  {
   "cell_type": "markdown",
   "metadata": {
    "colab_type": "text"
   },
   "source": [
    "## Configure the hyperparameters\n",
    "\n",
    "A key parameter to pick is the `patch_size`, the size of the input patches.\n",
    "In order to use each pixel as an individual input, you can set `patch_size` to\n",
    "`(1, 1)`. Below, we take inspiration from the original paper settings for\n",
    "training on ImageNet-1K, keeping most of the original settings for this example."
   ]
  },
  {
   "cell_type": "code",
   "execution_count": 0,
   "metadata": {
    "colab_type": "code"
   },
   "outputs": [],
   "source": [
    "num_classes = 100\n",
    "input_shape = (32, 32, 3)\n",
    "\n",
    "patch_size = (2, 2)  # 2-by-2 sized patches\n",
    "dropout_rate = 0.03  # Dropout rate\n",
    "num_heads = 8  # Attention heads\n",
    "embed_dim = 64  # Embedding dimension\n",
    "num_mlp = 256  # MLP layer size\n",
    "# Convert embedded patches to query, key, and values with a learnable additive\n",
    "# value\n",
    "qkv_bias = True\n",
    "window_size = 2  # Size of attention window\n",
    "shift_size = 1  # Size of shifting window\n",
    "image_dimension = 32  # Initial image size\n",
    "\n",
    "num_patch_x = input_shape[0] // patch_size[0]\n",
    "num_patch_y = input_shape[1] // patch_size[1]\n",
    "\n",
    "learning_rate = 1e-3\n",
    "batch_size = 128\n",
    "num_epochs = 40\n",
    "validation_split = 0.1\n",
    "weight_decay = 0.0001\n",
    "label_smoothing = 0.1"
   ]
  },
  {
   "cell_type": "markdown",
   "metadata": {
    "colab_type": "text"
   },
   "source": [
    "## Prepare the data\n",
    "\n",
    "We load the CIFAR-100 dataset through `keras.datasets`,\n",
    "normalize the images, and convert the integer labels to one-hot encoded vectors."
   ]
  },
  {
   "cell_type": "code",
   "execution_count": 0,
   "metadata": {
    "colab_type": "code"
   },
   "outputs": [],
   "source": [
    "(x_train, y_train), (x_test, y_test) = keras.datasets.cifar100.load_data()\n",
    "x_train, x_test = x_train / 255.0, x_test / 255.0\n",
    "y_train = keras.utils.to_categorical(y_train, num_classes)\n",
    "y_test = keras.utils.to_categorical(y_test, num_classes)\n",
    "num_train_samples = int(len(x_train) * (1 - validation_split))\n",
    "num_val_samples = len(x_train) - num_train_samples\n",
    "x_train, x_val = np.split(x_train, [num_train_samples])\n",
    "y_train, y_val = np.split(y_train, [num_train_samples])\n",
    "print(f\"x_train shape: {x_train.shape} - y_train shape: {y_train.shape}\")\n",
    "print(f\"x_test shape: {x_test.shape} - y_test shape: {y_test.shape}\")\n",
    "\n",
    "plt.figure(figsize=(10, 10))\n",
    "for i in range(25):\n",
    "    plt.subplot(5, 5, i + 1)\n",
    "    plt.xticks([])\n",
    "    plt.yticks([])\n",
    "    plt.grid(False)\n",
    "    plt.imshow(x_train[i])\n",
    "plt.show()\n",
    ""
   ]
  },
  {
   "cell_type": "markdown",
   "metadata": {
    "colab_type": "text"
   },
   "source": [
    "## Helper functions\n",
    "\n",
    "We create two helper functions to help us get a sequence of\n",
    "patches from the image, merge patches, and apply dropout."
   ]
  },
  {
   "cell_type": "code",
   "execution_count": 0,
   "metadata": {
    "colab_type": "code"
   },
   "outputs": [],
   "source": [
    "\n",
    "def window_partition(x, window_size):\n",
    "    _, height, width, channels = x.shape\n",
    "    patch_num_y = height // window_size\n",
    "    patch_num_x = width // window_size\n",
    "    x = ops.reshape(\n",
    "        x,\n",
    "        (\n",
    "            -1,\n",
    "            patch_num_y,\n",
    "            window_size,\n",
    "            patch_num_x,\n",
    "            window_size,\n",
    "            channels,\n",
    "        ),\n",
    "    )\n",
    "    x = ops.transpose(x, (0, 1, 3, 2, 4, 5))\n",
    "    windows = ops.reshape(x, (-1, window_size, window_size, channels))\n",
    "    return windows\n",
    "\n",
    "\n",
    "def window_reverse(windows, window_size, height, width, channels):\n",
    "    patch_num_y = height // window_size\n",
    "    patch_num_x = width // window_size\n",
    "    x = ops.reshape(\n",
    "        windows,\n",
    "        (\n",
    "            -1,\n",
    "            patch_num_y,\n",
    "            patch_num_x,\n",
    "            window_size,\n",
    "            window_size,\n",
    "            channels,\n",
    "        ),\n",
    "    )\n",
    "    x = ops.transpose(x, (0, 1, 3, 2, 4, 5))\n",
    "    x = ops.reshape(x, (-1, height, width, channels))\n",
    "    return x\n",
    ""
   ]
  },
  {
   "cell_type": "markdown",
   "metadata": {
    "colab_type": "text"
   },
   "source": [
    "## Window based multi-head self-attention\n",
    "\n",
    "Usually Transformers perform global self-attention, where the relationships\n",
    "between a token and all other tokens are computed. The global computation leads\n",
    "to quadratic complexity with respect to the number of tokens. Here, as the\n",
    "[original paper](https://arxiv.org/abs/2103.14030) suggests, we compute\n",
    "self-attention within local windows, in a non-overlapping manner. Global\n",
    "self-attention leads to quadratic computational complexity in the number of\n",
    "patches, whereas window-based self-attention leads to linear complexity and is\n",
    "easily scalable."
   ]
  },
  {
   "cell_type": "code",
   "execution_count": 0,
   "metadata": {
    "colab_type": "code"
   },
   "outputs": [],
   "source": [
    "\n",
    "class WindowAttention(layers.Layer):\n",
    "    def __init__(\n",
    "        self,\n",
    "        dim,\n",
    "        window_size,\n",
    "        num_heads,\n",
    "        qkv_bias=True,\n",
    "        dropout_rate=0.0,\n",
    "        **kwargs,\n",
    "    ):\n",
    "        super().__init__(**kwargs)\n",
    "        self.dim = dim\n",
    "        self.window_size = window_size\n",
    "        self.num_heads = num_heads\n",
    "        self.scale = (dim // num_heads) ** -0.5\n",
    "        self.qkv = layers.Dense(dim * 3, use_bias=qkv_bias)\n",
    "        self.dropout = layers.Dropout(dropout_rate)\n",
    "        self.proj = layers.Dense(dim)\n",
    "\n",
    "        num_window_elements = (2 * self.window_size[0] - 1) * (\n",
    "            2 * self.window_size[1] - 1\n",
    "        )\n",
    "        self.relative_position_bias_table = self.add_weight(\n",
    "            shape=(num_window_elements, self.num_heads),\n",
    "            initializer=keras.initializers.Zeros(),\n",
    "            trainable=True,\n",
    "        )\n",
    "        coords_h = np.arange(self.window_size[0])\n",
    "        coords_w = np.arange(self.window_size[1])\n",
    "        coords_matrix = np.meshgrid(coords_h, coords_w, indexing=\"ij\")\n",
    "        coords = np.stack(coords_matrix)\n",
    "        coords_flatten = coords.reshape(2, -1)\n",
    "        relative_coords = coords_flatten[:, :, None] - coords_flatten[:, None, :]\n",
    "        relative_coords = relative_coords.transpose([1, 2, 0])\n",
    "        relative_coords[:, :, 0] += self.window_size[0] - 1\n",
    "        relative_coords[:, :, 1] += self.window_size[1] - 1\n",
    "        relative_coords[:, :, 0] *= 2 * self.window_size[1] - 1\n",
    "        relative_position_index = relative_coords.sum(-1)\n",
    "\n",
    "        self.relative_position_index = keras.Variable(\n",
    "            initializer=relative_position_index,\n",
    "            shape=relative_position_index.shape,\n",
    "            dtype=\"int\",\n",
    "            trainable=False,\n",
    "        )\n",
    "\n",
    "    def call(self, x, mask=None):\n",
    "        _, size, channels = x.shape\n",
    "        head_dim = channels // self.num_heads\n",
    "        x_qkv = self.qkv(x)\n",
    "        x_qkv = ops.reshape(x_qkv, (-1, size, 3, self.num_heads, head_dim))\n",
    "        x_qkv = ops.transpose(x_qkv, (2, 0, 3, 1, 4))\n",
    "        q, k, v = x_qkv[0], x_qkv[1], x_qkv[2]\n",
    "        q = q * self.scale\n",
    "        k = ops.transpose(k, (0, 1, 3, 2))\n",
    "        attn = q @ k\n",
    "\n",
    "        num_window_elements = self.window_size[0] * self.window_size[1]\n",
    "        relative_position_index_flat = ops.reshape(self.relative_position_index, (-1,))\n",
    "        relative_position_bias = ops.take(\n",
    "            self.relative_position_bias_table,\n",
    "            relative_position_index_flat,\n",
    "            axis=0,\n",
    "        )\n",
    "        relative_position_bias = ops.reshape(\n",
    "            relative_position_bias,\n",
    "            (num_window_elements, num_window_elements, -1),\n",
    "        )\n",
    "        relative_position_bias = ops.transpose(relative_position_bias, (2, 0, 1))\n",
    "        attn = attn + ops.expand_dims(relative_position_bias, axis=0)\n",
    "\n",
    "        if mask is not None:\n",
    "            nW = mask.shape[0]\n",
    "            mask_float = ops.cast(\n",
    "                ops.expand_dims(ops.expand_dims(mask, axis=1), axis=0),\n",
    "                \"float32\",\n",
    "            )\n",
    "            attn = ops.reshape(attn, (-1, nW, self.num_heads, size, size)) + mask_float\n",
    "            attn = ops.reshape(attn, (-1, self.num_heads, size, size))\n",
    "            attn = keras.activations.softmax(attn, axis=-1)\n",
    "        else:\n",
    "            attn = keras.activations.softmax(attn, axis=-1)\n",
    "        attn = self.dropout(attn)\n",
    "\n",
    "        x_qkv = attn @ v\n",
    "        x_qkv = ops.transpose(x_qkv, (0, 2, 1, 3))\n",
    "        x_qkv = ops.reshape(x_qkv, (-1, size, channels))\n",
    "        x_qkv = self.proj(x_qkv)\n",
    "        x_qkv = self.dropout(x_qkv)\n",
    "        return x_qkv\n",
    ""
   ]
  },
  {
   "cell_type": "markdown",
   "metadata": {
    "colab_type": "text"
   },
   "source": [
    "## The complete Swin Transformer model\n",
    "\n",
    "Finally, we put together the complete Swin Transformer by replacing the standard\n",
    "multi-head attention (MHA) with shifted windows attention. As suggested in the\n",
    "original paper, we create a model comprising of a shifted window-based MHA\n",
    "layer, followed by a 2-layer MLP with GELU nonlinearity in between, applying\n",
    "`LayerNormalization` before each MSA layer and each MLP, and a residual\n",
    "connection after each of these layers.\n",
    "\n",
    "Notice that we only create a simple MLP with 2 Dense and\n",
    "2 Dropout layers. Often you will see models using ResNet-50 as the MLP which is\n",
    "quite standard in the literature. However in this paper the authors use a\n",
    "2-layer MLP with GELU nonlinearity in between."
   ]
  },
  {
   "cell_type": "code",
   "execution_count": 0,
   "metadata": {
    "colab_type": "code"
   },
   "outputs": [],
   "source": [
    "\n",
    "class SwinTransformer(layers.Layer):\n",
    "    def __init__(\n",
    "        self,\n",
    "        dim,\n",
    "        num_patch,\n",
    "        num_heads,\n",
    "        window_size=7,\n",
    "        shift_size=0,\n",
    "        num_mlp=1024,\n",
    "        qkv_bias=True,\n",
    "        dropout_rate=0.0,\n",
    "        **kwargs,\n",
    "    ):\n",
    "        super().__init__(**kwargs)\n",
    "\n",
    "        self.dim = dim  # number of input dimensions\n",
    "        self.num_patch = num_patch  # number of embedded patches\n",
    "        self.num_heads = num_heads  # number of attention heads\n",
    "        self.window_size = window_size  # size of window\n",
    "        self.shift_size = shift_size  # size of window shift\n",
    "        self.num_mlp = num_mlp  # number of MLP nodes\n",
    "\n",
    "        self.norm1 = layers.LayerNormalization(epsilon=1e-5)\n",
    "        self.attn = WindowAttention(\n",
    "            dim,\n",
    "            window_size=(self.window_size, self.window_size),\n",
    "            num_heads=num_heads,\n",
    "            qkv_bias=qkv_bias,\n",
    "            dropout_rate=dropout_rate,\n",
    "        )\n",
    "        self.drop_path = layers.Dropout(dropout_rate)\n",
    "        self.norm2 = layers.LayerNormalization(epsilon=1e-5)\n",
    "\n",
    "        self.mlp = keras.Sequential(\n",
    "            [\n",
    "                layers.Dense(num_mlp),\n",
    "                layers.Activation(keras.activations.gelu),\n",
    "                layers.Dropout(dropout_rate),\n",
    "                layers.Dense(dim),\n",
    "                layers.Dropout(dropout_rate),\n",
    "            ]\n",
    "        )\n",
    "\n",
    "        if min(self.num_patch) < self.window_size:\n",
    "            self.shift_size = 0\n",
    "            self.window_size = min(self.num_patch)\n",
    "\n",
    "    def build(self, input_shape):\n",
    "        if self.shift_size == 0:\n",
    "            self.attn_mask = None\n",
    "        else:\n",
    "            height, width = self.num_patch\n",
    "            h_slices = (\n",
    "                slice(0, -self.window_size),\n",
    "                slice(-self.window_size, -self.shift_size),\n",
    "                slice(-self.shift_size, None),\n",
    "            )\n",
    "            w_slices = (\n",
    "                slice(0, -self.window_size),\n",
    "                slice(-self.window_size, -self.shift_size),\n",
    "                slice(-self.shift_size, None),\n",
    "            )\n",
    "            mask_array = np.zeros((1, height, width, 1))\n",
    "            count = 0\n",
    "            for h in h_slices:\n",
    "                for w in w_slices:\n",
    "                    mask_array[:, h, w, :] = count\n",
    "                    count += 1\n",
    "            mask_array = ops.convert_to_tensor(mask_array)\n",
    "\n",
    "            # mask array to windows\n",
    "            mask_windows = window_partition(mask_array, self.window_size)\n",
    "            mask_windows = ops.reshape(\n",
    "                mask_windows, [-1, self.window_size * self.window_size]\n",
    "            )\n",
    "            attn_mask = ops.expand_dims(mask_windows, axis=1) - ops.expand_dims(\n",
    "                mask_windows, axis=2\n",
    "            )\n",
    "            attn_mask = ops.where(attn_mask != 0, -100.0, attn_mask)\n",
    "            attn_mask = ops.where(attn_mask == 0, 0.0, attn_mask)\n",
    "            self.attn_mask = keras.Variable(\n",
    "                initializer=attn_mask,\n",
    "                shape=attn_mask.shape,\n",
    "                dtype=attn_mask.dtype,\n",
    "                trainable=False,\n",
    "            )\n",
    "\n",
    "    def call(self, x, training=False):\n",
    "        height, width = self.num_patch\n",
    "        _, num_patches_before, channels = x.shape\n",
    "        x_skip = x\n",
    "        x = self.norm1(x)\n",
    "        x = ops.reshape(x, (-1, height, width, channels))\n",
    "        if self.shift_size > 0:\n",
    "            shifted_x = ops.roll(\n",
    "                x, shift=[-self.shift_size, -self.shift_size], axis=[1, 2]\n",
    "            )\n",
    "        else:\n",
    "            shifted_x = x\n",
    "\n",
    "        x_windows = window_partition(shifted_x, self.window_size)\n",
    "        x_windows = ops.reshape(\n",
    "            x_windows, (-1, self.window_size * self.window_size, channels)\n",
    "        )\n",
    "        attn_windows = self.attn(x_windows, mask=self.attn_mask)\n",
    "\n",
    "        attn_windows = ops.reshape(\n",
    "            attn_windows,\n",
    "            (-1, self.window_size, self.window_size, channels),\n",
    "        )\n",
    "        shifted_x = window_reverse(\n",
    "            attn_windows, self.window_size, height, width, channels\n",
    "        )\n",
    "        if self.shift_size > 0:\n",
    "            x = ops.roll(\n",
    "                shifted_x, shift=[self.shift_size, self.shift_size], axis=[1, 2]\n",
    "            )\n",
    "        else:\n",
    "            x = shifted_x\n",
    "\n",
    "        x = ops.reshape(x, (-1, height * width, channels))\n",
    "        x = self.drop_path(x, training=training)\n",
    "        x = x_skip + x\n",
    "        x_skip = x\n",
    "        x = self.norm2(x)\n",
    "        x = self.mlp(x)\n",
    "        x = self.drop_path(x)\n",
    "        x = x_skip + x\n",
    "        return x\n",
    ""
   ]
  },
  {
   "cell_type": "markdown",
   "metadata": {
    "colab_type": "text"
   },
   "source": [
    "## Model training and evaluation\n",
    "\n",
    "### Extract and embed patches\n",
    "\n",
    "We first create 3 layers to help us extract, embed and merge patches from the\n",
    "images on top of which we will later use the Swin Transformer class we built."
   ]
  },
  {
   "cell_type": "code",
   "execution_count": 0,
   "metadata": {
    "colab_type": "code"
   },
   "outputs": [],
   "source": [
    "\n",
    "# Using tf ops since it is only used in tf.data.\n",
    "def patch_extract(images):\n",
    "    batch_size = tf.shape(images)[0]\n",
    "    patches = tf.image.extract_patches(\n",
    "        images=images,\n",
    "        sizes=(1, patch_size[0], patch_size[1], 1),\n",
    "        strides=(1, patch_size[0], patch_size[1], 1),\n",
    "        rates=(1, 1, 1, 1),\n",
    "        padding=\"VALID\",\n",
    "    )\n",
    "    patch_dim = patches.shape[-1]\n",
    "    patch_num = patches.shape[1]\n",
    "    return tf.reshape(patches, (batch_size, patch_num * patch_num, patch_dim))\n",
    "\n",
    "\n",
    "class PatchEmbedding(layers.Layer):\n",
    "    def __init__(self, num_patch, embed_dim, **kwargs):\n",
    "        super().__init__(**kwargs)\n",
    "        self.num_patch = num_patch\n",
    "        self.proj = layers.Dense(embed_dim)\n",
    "        self.pos_embed = layers.Embedding(input_dim=num_patch, output_dim=embed_dim)\n",
    "\n",
    "    def call(self, patch):\n",
    "        pos = ops.arange(start=0, stop=self.num_patch)\n",
    "        return self.proj(patch) + self.pos_embed(pos)\n",
    "\n",
    "\n",
    "class PatchMerging(keras.layers.Layer):\n",
    "    def __init__(self, num_patch, embed_dim):\n",
    "        super().__init__()\n",
    "        self.num_patch = num_patch\n",
    "        self.embed_dim = embed_dim\n",
    "        self.linear_trans = layers.Dense(2 * embed_dim, use_bias=False)\n",
    "\n",
    "    def call(self, x):\n",
    "        height, width = self.num_patch\n",
    "        _, _, C = x.shape\n",
    "        x = ops.reshape(x, (-1, height, width, C))\n",
    "        x0 = x[:, 0::2, 0::2, :]\n",
    "        x1 = x[:, 1::2, 0::2, :]\n",
    "        x2 = x[:, 0::2, 1::2, :]\n",
    "        x3 = x[:, 1::2, 1::2, :]\n",
    "        x = ops.concatenate((x0, x1, x2, x3), axis=-1)\n",
    "        x = ops.reshape(x, (-1, (height // 2) * (width // 2), 4 * C))\n",
    "        return self.linear_trans(x)\n",
    ""
   ]
  },
  {
   "cell_type": "markdown",
   "metadata": {
    "colab_type": "text"
   },
   "source": [
    "### Prepare the tf.data.Dataset\n",
    "\n",
    "We do all the steps, which do not have trainable weights with tf.data.\n",
    "Prepare the training, validation and testing sets."
   ]
  },
  {
   "cell_type": "code",
   "execution_count": 0,
   "metadata": {
    "colab_type": "code"
   },
   "outputs": [],
   "source": [
    "\n",
    "def augment(x):\n",
    "    x = tf.image.random_crop(x, size=(image_dimension, image_dimension, 3))\n",
    "    x = tf.image.random_flip_left_right(x)\n",
    "    return x\n",
    "\n",
    "\n",
    "dataset = (\n",
    "    tf.data.Dataset.from_tensor_slices((x_train, y_train))\n",
    "    .map(lambda x, y: (augment(x), y))\n",
    "    .batch(batch_size=batch_size)\n",
    "    .map(lambda x, y: (patch_extract(x), y))\n",
    "    .prefetch(tf.data.experimental.AUTOTUNE)\n",
    ")\n",
    "\n",
    "dataset_val = (\n",
    "    tf.data.Dataset.from_tensor_slices((x_val, y_val))\n",
    "    .batch(batch_size=batch_size)\n",
    "    .map(lambda x, y: (patch_extract(x), y))\n",
    "    .prefetch(tf.data.experimental.AUTOTUNE)\n",
    ")\n",
    "\n",
    "dataset_test = (\n",
    "    tf.data.Dataset.from_tensor_slices((x_test, y_test))\n",
    "    .batch(batch_size=batch_size)\n",
    "    .map(lambda x, y: (patch_extract(x), y))\n",
    "    .prefetch(tf.data.experimental.AUTOTUNE)\n",
    ")"
   ]
  },
  {
   "cell_type": "markdown",
   "metadata": {
    "colab_type": "text"
   },
   "source": [
    "### Build the model\n",
    "\n",
    "We put together the Swin Transformer model."
   ]
  },
  {
   "cell_type": "code",
   "execution_count": 0,
   "metadata": {
    "colab_type": "code"
   },
   "outputs": [],
   "source": [
    "input = layers.Input(shape=(256, 12))\n",
    "x = PatchEmbedding(num_patch_x * num_patch_y, embed_dim)(input)\n",
    "x = SwinTransformer(\n",
    "    dim=embed_dim,\n",
    "    num_patch=(num_patch_x, num_patch_y),\n",
    "    num_heads=num_heads,\n",
    "    window_size=window_size,\n",
    "    shift_size=0,\n",
    "    num_mlp=num_mlp,\n",
    "    qkv_bias=qkv_bias,\n",
    "    dropout_rate=dropout_rate,\n",
    ")(x)\n",
    "x = SwinTransformer(\n",
    "    dim=embed_dim,\n",
    "    num_patch=(num_patch_x, num_patch_y),\n",
    "    num_heads=num_heads,\n",
    "    window_size=window_size,\n",
    "    shift_size=shift_size,\n",
    "    num_mlp=num_mlp,\n",
    "    qkv_bias=qkv_bias,\n",
    "    dropout_rate=dropout_rate,\n",
    ")(x)\n",
    "x = PatchMerging((num_patch_x, num_patch_y), embed_dim=embed_dim)(x)\n",
    "x = layers.GlobalAveragePooling1D()(x)\n",
    "output = layers.Dense(num_classes, activation=\"softmax\")(x)"
   ]
  },
  {
   "cell_type": "markdown",
   "metadata": {
    "colab_type": "text"
   },
   "source": [
    "### Train on CIFAR-100\n",
    "\n",
    "We train the model on CIFAR-100. Here, we only train the model\n",
    "for 40 epochs to keep the training time short in this example.\n",
    "In practice, you should train for 150 epochs to reach convergence."
   ]
  },
  {
   "cell_type": "code",
   "execution_count": 0,
   "metadata": {
    "colab_type": "code"
   },
   "outputs": [],
   "source": [
    "model = keras.Model(input, output)\n",
    "model.compile(\n",
    "    loss=keras.losses.CategoricalCrossentropy(label_smoothing=label_smoothing),\n",
    "    optimizer=keras.optimizers.AdamW(\n",
    "        learning_rate=learning_rate, weight_decay=weight_decay\n",
    "    ),\n",
    "    metrics=[\n",
    "        keras.metrics.CategoricalAccuracy(name=\"accuracy\"),\n",
    "        keras.metrics.TopKCategoricalAccuracy(5, name=\"top-5-accuracy\"),\n",
    "    ],\n",
    ")\n",
    "\n",
    "history = model.fit(\n",
    "    dataset,\n",
    "    batch_size=batch_size,\n",
    "    epochs=num_epochs,\n",
    "    validation_data=dataset_val,\n",
    ")"
   ]
  },
  {
   "cell_type": "markdown",
   "metadata": {
    "colab_type": "text"
   },
   "source": [
    "Let's visualize the training progress of the model."
   ]
  },
  {
   "cell_type": "code",
   "execution_count": 0,
   "metadata": {
    "colab_type": "code"
   },
   "outputs": [],
   "source": [
    "plt.plot(history.history[\"loss\"], label=\"train_loss\")\n",
    "plt.plot(history.history[\"val_loss\"], label=\"val_loss\")\n",
    "plt.xlabel(\"Epochs\")\n",
    "plt.ylabel(\"Loss\")\n",
    "plt.title(\"Train and Validation Losses Over Epochs\", fontsize=14)\n",
    "plt.legend()\n",
    "plt.grid()\n",
    "plt.show()"
   ]
  },
  {
   "cell_type": "markdown",
   "metadata": {
    "colab_type": "text"
   },
   "source": [
    "Let's display the final results of the training on CIFAR-100."
   ]
  },
  {
   "cell_type": "code",
   "execution_count": 0,
   "metadata": {
    "colab_type": "code"
   },
   "outputs": [],
   "source": [
    "loss, accuracy, top_5_accuracy = model.evaluate(dataset_test)\n",
    "print(f\"Test loss: {round(loss, 2)}\")\n",
    "print(f\"Test accuracy: {round(accuracy * 100, 2)}%\")\n",
    "print(f\"Test top 5 accuracy: {round(top_5_accuracy * 100, 2)}%\")"
   ]
  },
  {
   "cell_type": "markdown",
   "metadata": {
    "colab_type": "text"
   },
   "source": [
    "The Swin Transformer model we just trained has just 152K parameters, and it gets\n",
    "us to ~75% test top-5 accuracy within just 40 epochs without any signs of\n",
    "overfitting as well as seen in above graph. This means we can train this network\n",
    "for longer (perhaps with a bit more regularization) and obtain even better\n",
    "performance. This performance can further be improved by additional techniques\n",
    "like cosine decay learning rate schedule, other data augmentation techniques.\n",
    "While experimenting, I tried training the model for 150 epochs with a slightly\n",
    "higher dropout and greater embedding dimensions which pushes the performance to\n",
    "~72% test accuracy on CIFAR-100 as you can see in the screenshot.\n",
    "\n",
    "![Results of training for longer](https://i.imgur.com/9vnQesZ.png)\n",
    "\n",
    "The authors present a top-1 accuracy of 87.3% on ImageNet. The authors also\n",
    "present a number of experiments to study how input sizes, optimizers etc. affect\n",
    "the final performance of this model. The authors further present using this\n",
    "model for object detection, semantic segmentation and instance segmentation as\n",
    "well and report competitive results for these. You are strongly advised to also\n",
    "check out the [original paper](https://arxiv.org/abs/2103.14030).\n",
    "\n",
    "This example takes inspiration from the official\n",
    "[PyTorch](https://github.com/microsoft/Swin-Transformer) and\n",
    "[TensorFlow](https://github.com/VcampSoldiers/Swin-Transformer-Tensorflow)\n",
    "implementations."
   ]
  }
 ],
 "metadata": {
  "accelerator": "GPU",
  "colab": {
   "collapsed_sections": [],
   "name": "swin_transformers",
   "private_outputs": false,
   "provenance": [],
   "toc_visible": true
  },
  "kernelspec": {
   "display_name": "Python 3",
   "language": "python",
   "name": "python3"
  },
  "language_info": {
   "codemirror_mode": {
    "name": "ipython",
    "version": 3
   },
   "file_extension": ".py",
   "mimetype": "text/x-python",
   "name": "python",
   "nbconvert_exporter": "python",
   "pygments_lexer": "ipython3",
   "version": "3.7.0"
  }
 },
 "nbformat": 4,
 "nbformat_minor": 0
}