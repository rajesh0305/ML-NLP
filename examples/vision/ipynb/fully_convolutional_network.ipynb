{
 "cells": [
  {
   "attachments": {},
   "cell_type": "markdown",
   "metadata": {
    "colab_type": "text"
   },
   "source": [
    "# Image Segmentation using Composable Fully-Convolutional Networks\n",
    "\n",
    "**Author:** [Suvaditya Mukherjee](https://twitter.com/halcyonrayes)<br>\n",
    "**Date created:** 2023/06/16<br>\n",
    "**Last modified:** 2023/12/25<br>\n",
    "**Description:** Using the Fully-Convolutional Network for Image Segmentation."
   ]
  },
  {
   "attachments": {},
   "cell_type": "markdown",
   "metadata": {
    "colab_type": "text"
   },
   "source": [
    "## Introduction\n",
    "\n",
    "The following example walks through the steps to implement Fully-Convolutional Networks\n",
    "for Image Segmentation on the Oxford-IIIT Pets dataset.\n",
    "The model was proposed in the paper,\n",
    "[Fully Convolutional Networks for Semantic Segmentation by Long et. al.(2014)](https://arxiv.org/abs/1411.4038).\n",
    "Image segmentation is one of the most common and introductory tasks when it comes to\n",
    "Computer Vision, where we extend the problem of Image Classification from\n",
    "one-label-per-image to a pixel-wise classification problem.\n",
    "In this example, we will assemble the aforementioned Fully-Convolutional Segmentation architecture,\n",
    "capable of performing Image Segmentation.\n",
    "The network extends the pooling layer outputs from the VGG in order to perform upsampling\n",
    "and get a final result. The intermediate outputs coming from the 3rd, 4th and 5th Max-Pooling layers from VGG19 are\n",
    "extracted out and upsampled at different levels and factors to get a final output with the same shape as that\n",
    "of the output, but with the class of each pixel present at each location, instead of pixel intensity values.\n",
    "Different intermediate pool layers are extracted and processed upon for different versions of the network.\n",
    "The FCN architecture has 3 versions of differing quality.\n",
    "\n",
    "- FCN-32S\n",
    "- FCN-16S\n",
    "- FCN-8S\n",
    "\n",
    "All versions of the model derive their outputs through an iterative processing of\n",
    "successive intermediate pool layers of the main backbone used.\n",
    "A better idea can be gained from the figure below.\n",
    "\n",
    "| ![FCN Architecture](https://i.imgur.com/Ttros06.png) |\n",
    "| :--: |\n",
    "| **Diagram 1**: Combined Architecture Versions (Source: Paper) |\n",
    "\n",
    "To get a better idea on Image Segmentation or find more pre-trained models, feel free to\n",
    "navigate to the [Hugging Face Image Segmentation Models](https://huggingface.co/models?pipeline_tag=image-segmentation) page,\n",
    "or a [PyImageSearch Blog on Semantic Segmentation](https://pyimagesearch.com/2018/09/03/semantic-segmentation-with-opencv-and-deep-learning/)"
   ]
  },
  {
   "attachments": {},
   "cell_type": "markdown",
   "metadata": {
    "colab_type": "text"
   },
   "source": [
    "## Setup Imports"
   ]
  },
  {
   "cell_type": "code",
   "execution_count": null,
   "metadata": {
    "colab_type": "code"
   },
   "outputs": [],
   "source": [
    "import os\n",
    "os.environ[\"KERAS_BACKEND\"] = \"tensorflow\"\n",
    "import keras\n",
    "from keras import ops\n",
    "import tensorflow as tf\n",
    "import matplotlib.pyplot as plt\n",
    "import tensorflow_datasets as tfds\n",
    "import numpy as np\n",
    "\n",
    "AUTOTUNE = tf.data.AUTOTUNE"
   ]
  },
  {
   "attachments": {},
   "cell_type": "markdown",
   "metadata": {
    "colab_type": "text"
   },
   "source": [
    "## Set configurations for notebook variables\n",
    "\n",
    "We set the required parameters for the experiment.\n",
    "The chosen dataset has a total of 4 classes per image, with regards to the segmentation mask.\n",
    "We also set our hyperparameters in this cell.\n",
    "\n",
    "Mixed Precision as an option is also available in systems which support it, to reduce\n",
    "load.\n",
    "This would make most tensors use `16-bit float` values instead of `32-bit float`\n",
    "values, in places where it will not adversely affect computation.\n",
    "This means, during computation, TensorFlow will use `16-bit float` Tensors to increase speed at the cost of precision,\n",
    "while storing the values in their original default `32-bit float` form."
   ]
  },
  {
   "cell_type": "code",
   "execution_count": null,
   "metadata": {
    "colab_type": "code"
   },
   "outputs": [],
   "source": [
    "NUM_CLASSES = 4\n",
    "INPUT_HEIGHT = 224\n",
    "INPUT_WIDTH = 224\n",
    "LEARNING_RATE = 1e-3\n",
    "WEIGHT_DECAY = 1e-4\n",
    "EPOCHS = 20\n",
    "BATCH_SIZE = 32\n",
    "MIXED_PRECISION = True\n",
    "SHUFFLE = True\n",
    "\n",
    "# Mixed-precision setting\n",
    "if MIXED_PRECISION:\n",
    "    policy = keras.mixed_precision.Policy(\"mixed_float16\")\n",
    "    keras.mixed_precision.set_global_policy(policy)"
   ]
  },
  {
   "attachments": {},
   "cell_type": "markdown",
   "metadata": {
    "colab_type": "text"
   },
   "source": [
    "## Load dataset\n",
    "\n",
    "We make use of the [Oxford-IIIT Pets dataset](http://www.robots.ox.ac.uk/~vgg/data/pets/)\n",
    "which contains a total of 7,349 samples and their segmentation masks.\n",
    "We have 37 classes, with roughly 200 samples per class.\n",
    "Our training and validation dataset has 3,128 and 552 samples respectively.\n",
    "Aside from this, our test split has a total of 3,669 samples.\n",
    "\n",
    "We set a `batch_size` parameter that will batch our samples together, use a `shuffle`\n",
    "parameter to mix our samples together."
   ]
  },
  {
   "cell_type": "code",
   "execution_count": null,
   "metadata": {
    "colab_type": "code"
   },
   "outputs": [],
   "source": [
    "(train_ds, valid_ds, test_ds) = tfds.load(\n",
    "    \"oxford_iiit_pet\",\n",
    "    split=[\"train[:85%]\", \"train[85%:]\", \"test\"],\n",
    "    batch_size=BATCH_SIZE,\n",
    "    shuffle_files=SHUFFLE,\n",
    ")"
   ]
  },
  {
   "attachments": {},
   "cell_type": "markdown",
   "metadata": {
    "colab_type": "text"
   },
   "source": [
    "## Unpack and preprocess dataset\n",
    "\n",
    "We define a simple function that includes performs Resizing over our\n",
    "training, validation and test datasets.\n",
    "We do the same process on the masks as well, to make sure both are aligned in terms of shape and size."
   ]
  },
  {
   "cell_type": "code",
   "execution_count": null,
   "metadata": {
    "colab_type": "code"
   },
   "outputs": [],
   "source": [
    "\n",
    "# Image and Mask Pre-processing\n",
    "def unpack_resize_data(section):\n",
    "    image = section[\"image\"]\n",
    "    segmentation_mask = section[\"segmentation_mask\"]\n",
    "\n",
    "    resize_layer = keras.layers.Resizing(INPUT_HEIGHT, INPUT_WIDTH)\n",
    "\n",
    "    image = resize_layer(image)\n",
    "    segmentation_mask = resize_layer(segmentation_mask)\n",
    "\n",
    "    return image, segmentation_mask\n",
    "\n",
    "\n",
    "train_ds = train_ds.map(unpack_resize_data, num_parallel_calls=AUTOTUNE)\n",
    "valid_ds = valid_ds.map(unpack_resize_data, num_parallel_calls=AUTOTUNE)\n",
    "test_ds = test_ds.map(unpack_resize_data, num_parallel_calls=AUTOTUNE)"
   ]
  },
  {
   "attachments": {},
   "cell_type": "markdown",
   "metadata": {
    "colab_type": "text"
   },
   "source": [
    "## Visualize one random sample from the pre-processed dataset\n",
    "\n",
    "We visualize what a random sample in our test split of the dataset looks like, and plot\n",
    "the segmentation mask on top to see the effective mask areas.\n",
    "Note that we have performed pre-processing on this dataset too,\n",
    "which makes the image and mask size same."
   ]
  },
  {
   "cell_type": "code",
   "execution_count": null,
   "metadata": {
    "colab_type": "code"
   },
   "outputs": [],
   "source": [
    "# Select random image and mask. Cast to NumPy array\n",
    "# for Matplotlib visualization.\n",
    "\n",
    "images, masks = next(iter(test_ds))\n",
    "random_idx = keras.random.uniform([], minval=0, maxval=BATCH_SIZE, seed=10)\n",
    "\n",
    "test_image = images[int(random_idx)].numpy().astype(\"float\")\n",
    "test_mask = masks[int(random_idx)].numpy().astype(\"float\")\n",
    "\n",
    "# Overlay segmentation mask on top of image.\n",
    "fig, ax = plt.subplots(nrows=1, ncols=2, figsize=(10, 5))\n",
    "\n",
    "ax[0].set_title(\"Image\")\n",
    "ax[0].imshow(test_image / 255.0)\n",
    "\n",
    "ax[1].set_title(\"Image with segmentation mask overlay\")\n",
    "ax[1].imshow(test_image / 255.0)\n",
    "ax[1].imshow(\n",
    "    test_mask,\n",
    "    cmap=\"inferno\",\n",
    "    alpha=0.6,\n",
    ")\n",
    "plt.show()"
   ]
  },
  {
   "attachments": {},
   "cell_type": "markdown",
   "metadata": {
    "colab_type": "text"
   },
   "source": [
    "## Perform VGG-specific pre-processing\n",
    "\n",
    "`keras.applications.VGG19` requires the use of a `preprocess_input` function that will\n",
    "pro-actively perform Image-net style Standard Deviation Normalization scheme."
   ]
  },
  {
   "cell_type": "code",
   "execution_count": null,
   "metadata": {
    "colab_type": "code"
   },
   "outputs": [],
   "source": [
    "\n",
    "def preprocess_data(image, segmentation_mask):\n",
    "    image = keras.applications.vgg19.preprocess_input(image)\n",
    "\n",
    "    return image, segmentation_mask\n",
    "\n",
    "\n",
    "train_ds = (\n",
    "    train_ds.map(preprocess_data, num_parallel_calls=AUTOTUNE)\n",
    "    .shuffle(buffer_size=1024)\n",
    "    .prefetch(buffer_size=1024)\n",
    ")\n",
    "valid_ds = (\n",
    "    valid_ds.map(preprocess_data, num_parallel_calls=AUTOTUNE)\n",
    "    .shuffle(buffer_size=1024)\n",
    "    .prefetch(buffer_size=1024)\n",
    ")\n",
    "test_ds = (\n",
    "    test_ds.map(preprocess_data, num_parallel_calls=AUTOTUNE)\n",
    "    .shuffle(buffer_size=1024)\n",
    "    .prefetch(buffer_size=1024)\n",
    ")"
   ]
  },
  {
   "attachments": {},
   "cell_type": "markdown",
   "metadata": {
    "colab_type": "text"
   },
   "source": [
    "## Model Definition\n",
    "\n",
    "The Fully-Convolutional Network boasts a simple architecture composed of only\n",
    "`keras.layers.Conv2D` Layers, `keras.layers.Dense` layers and `keras.layers.Dropout`\n",
    "layers.\n",
    "\n",
    "| ![FCN Architecture](https://i.imgur.com/PerTKjf.png) |\n",
    "| :--: |\n",
    "| **Diagram 2**: Generic FCN Forward Pass (Source: Paper)|\n",
    "\n",
    "Pixel-wise prediction is performed by having a Softmax Convolutional layer with the same\n",
    "size of the image, such that we can perform direct comparison\n",
    "We can find several important metrics such as Accuracy and Mean-Intersection-over-Union on the network."
   ]
  },
  {
   "attachments": {},
   "cell_type": "markdown",
   "metadata": {
    "colab_type": "text"
   },
   "source": [
    "### Backbone (VGG-19)\n",
    "\n",
    "We use the [VGG-19 network](https://keras.io/api/applications/vgg/) as the backbone, as\n",
    "the paper suggests it to be one of the most effective backbones for this network.\n",
    "We extract different outputs from the network by making use of `keras.models.Model`.\n",
    "Following this, we add layers on top to make a network perfectly simulating that of\n",
    "Diagram 1.\n",
    "The backbone's `keras.layers.Dense` layers will be converted to `keras.layers.Conv2D`\n",
    "layers based on the [original Caffe code present here.](https://github.com/linxi159/FCN-caffe/blob/master/pascalcontext-fcn16s/net.py)\n",
    "All 3 networks will share the same backbone weights, but will have differing results\n",
    "based on their extensions.\n",
    "We make the backbone non-trainable to improve training time requirements.\n",
    "It is also noted in the paper that making the network trainable does not yield major benefits."
   ]
  },
  {
   "cell_type": "code",
   "execution_count": null,
   "metadata": {
    "colab_type": "code"
   },
   "outputs": [],
   "source": [
    "input_layer = keras.Input(shape=(INPUT_HEIGHT, INPUT_WIDTH, 3))\n",
    "\n",
    "# VGG Model backbone with pre-trained ImageNet weights.\n",
    "vgg_model = keras.applications.vgg19.VGG19(include_top=True, weights=\"imagenet\")\n",
    "\n",
    "# Extracting different outputs from same model\n",
    "fcn_backbone = keras.models.Model(\n",
    "    inputs=vgg_model.layers[1].input,\n",
    "    outputs=[\n",
    "        vgg_model.get_layer(block_name).output\n",
    "        for block_name in [\"block3_pool\", \"block4_pool\", \"block5_pool\"]\n",
    "    ],\n",
    ")\n",
    "\n",
    "# Setting backbone to be non-trainable\n",
    "fcn_backbone.trainable = False\n",
    "\n",
    "x = fcn_backbone(input_layer)\n",
    "\n",
    "# Converting Dense layers to Conv2D layers\n",
    "units = [4096, 4096]\n",
    "dense_convs = []\n",
    "\n",
    "for filter_idx in range(len(units)):\n",
    "    dense_conv = keras.layers.Conv2D(\n",
    "        filters=units[filter_idx],\n",
    "        kernel_size=(7, 7) if filter_idx == 0 else (1, 1),\n",
    "        strides=(1, 1),\n",
    "        activation=\"relu\",\n",
    "        padding=\"same\",\n",
    "        use_bias=False,\n",
    "        kernel_initializer=keras.initializers.Constant(1.0),\n",
    "    )\n",
    "    dense_convs.append(dense_conv)\n",
    "    dropout_layer = keras.layers.Dropout(0.5)\n",
    "    dense_convs.append(dropout_layer)\n",
    "\n",
    "dense_convs = keras.Sequential(dense_convs)\n",
    "dense_convs.trainable = False\n",
    "\n",
    "x[-1] = dense_convs(x[-1])\n",
    "\n",
    "pool3_output, pool4_output, pool5_output = x"
   ]
  },
  {
   "attachments": {},
   "cell_type": "markdown",
   "metadata": {
    "colab_type": "text"
   },
   "source": [
    "### FCN-32S\n",
    "\n",
    "We extend the last output, perform a `1x1 Convolution` and perform 2D Bilinear Upsampling\n",
    "by a factor of 32 to get an image of the same size as that of our input.\n",
    "We use a simple `keras.layers.UpSampling2D` layer over a `keras.layers.Conv2DTranspose`\n",
    "since it yields performance benefits from being a deterministic mathematical operation\n",
    "over a Convolutional operation\n",
    "It is also noted in the paper that making the Up-sampling parameters trainable does not yield benefits.\n",
    "Original experiments of the paper used Upsampling as well."
   ]
  },
  {
   "cell_type": "code",
   "execution_count": null,
   "metadata": {
    "colab_type": "code"
   },
   "outputs": [],
   "source": [
    "# 1x1 convolution to set channels = number of classes\n",
    "pool5 = keras.layers.Conv2D(\n",
    "    filters=NUM_CLASSES,\n",
    "    kernel_size=(1, 1),\n",
    "    padding=\"same\",\n",
    "    strides=(1, 1),\n",
    "    activation=\"relu\",\n",
    ")\n",
    "\n",
    "# Get Softmax outputs for all classes\n",
    "fcn32s_conv_layer = keras.layers.Conv2D(\n",
    "    filters=NUM_CLASSES,\n",
    "    kernel_size=(1, 1),\n",
    "    activation=\"softmax\",\n",
    "    padding=\"same\",\n",
    "    strides=(1, 1),\n",
    ")\n",
    "\n",
    "# Up-sample to original image size\n",
    "fcn32s_upsampling = keras.layers.UpSampling2D(\n",
    "    size=(32, 32),\n",
    "    data_format=keras.backend.image_data_format(),\n",
    "    interpolation=\"bilinear\",\n",
    ")\n",
    "\n",
    "final_fcn32s_pool = pool5(pool5_output)\n",
    "final_fcn32s_output = fcn32s_conv_layer(final_fcn32s_pool)\n",
    "final_fcn32s_output = fcn32s_upsampling(final_fcn32s_output)\n",
    "\n",
    "fcn32s_model = keras.Model(inputs=input_layer, outputs=final_fcn32s_output)"
   ]
  },
  {
   "attachments": {},
   "cell_type": "markdown",
   "metadata": {
    "colab_type": "text"
   },
   "source": [
    "### FCN-16S\n",
    "\n",
    "The pooling output from the FCN-32S is extended and added to the 4th-level Pooling output\n",
    "of our backbone.\n",
    "Following this, we upsample by a factor of 16 to get image of the same\n",
    "size as that of our input."
   ]
  },
  {
   "cell_type": "code",
   "execution_count": null,
   "metadata": {
    "colab_type": "code"
   },
   "outputs": [],
   "source": [
    "# 1x1 convolution to set channels = number of classes\n",
    "# Followed from the original Caffe implementation\n",
    "pool4 = keras.layers.Conv2D(\n",
    "    filters=NUM_CLASSES,\n",
    "    kernel_size=(1, 1),\n",
    "    padding=\"same\",\n",
    "    strides=(1, 1),\n",
    "    activation=\"linear\",\n",
    "    kernel_initializer=keras.initializers.Zeros(),\n",
    ")(pool4_output)\n",
    "\n",
    "# Intermediate up-sample\n",
    "pool5 = keras.layers.UpSampling2D(\n",
    "    size=(2, 2),\n",
    "    data_format=keras.backend.image_data_format(),\n",
    "    interpolation=\"bilinear\",\n",
    ")(final_fcn32s_pool)\n",
    "\n",
    "# Get Softmax outputs for all classes\n",
    "fcn16s_conv_layer = keras.layers.Conv2D(\n",
    "    filters=NUM_CLASSES,\n",
    "    kernel_size=(1, 1),\n",
    "    activation=\"softmax\",\n",
    "    padding=\"same\",\n",
    "    strides=(1, 1),\n",
    ")\n",
    "\n",
    "# Up-sample to original image size\n",
    "fcn16s_upsample_layer = keras.layers.UpSampling2D(\n",
    "    size=(16, 16),\n",
    "    data_format=keras.backend.image_data_format(),\n",
    "    interpolation=\"bilinear\",\n",
    ")\n",
    "\n",
    "# Add intermediate outputs\n",
    "final_fcn16s_pool = keras.layers.Add()([pool4, pool5])\n",
    "final_fcn16s_output = fcn16s_conv_layer(final_fcn16s_pool)\n",
    "final_fcn16s_output = fcn16s_upsample_layer(final_fcn16s_output)\n",
    "\n",
    "fcn16s_model = keras.models.Model(inputs=input_layer, outputs=final_fcn16s_output)"
   ]
  },
  {
   "attachments": {},
   "cell_type": "markdown",
   "metadata": {
    "colab_type": "text"
   },
   "source": [
    "### FCN-8S\n",
    "\n",
    "The pooling output from the FCN-16S is extended once more, and added from the 3rd-level\n",
    "Pooling output of our backbone.\n",
    "This result is upsampled by a factor of 8 to get an image of the same size as that of our input."
   ]
  },
  {
   "cell_type": "code",
   "execution_count": null,
   "metadata": {
    "colab_type": "code"
   },
   "outputs": [],
   "source": [
    "# 1x1 convolution to set channels = number of classes\n",
    "# Followed from the original Caffe implementation\n",
    "pool3 = keras.layers.Conv2D(\n",
    "    filters=NUM_CLASSES,\n",
    "    kernel_size=(1, 1),\n",
    "    padding=\"same\",\n",
    "    strides=(1, 1),\n",
    "    activation=\"linear\",\n",
    "    kernel_initializer=keras.initializers.Zeros(),\n",
    ")(pool3_output)\n",
    "\n",
    "# Intermediate up-sample\n",
    "intermediate_pool_output = keras.layers.UpSampling2D(\n",
    "    size=(2, 2),\n",
    "    data_format=keras.backend.image_data_format(),\n",
    "    interpolation=\"bilinear\",\n",
    ")(final_fcn16s_pool)\n",
    "\n",
    "# Get Softmax outputs for all classes\n",
    "fcn8s_conv_layer = keras.layers.Conv2D(\n",
    "    filters=NUM_CLASSES,\n",
    "    kernel_size=(1, 1),\n",
    "    activation=\"softmax\",\n",
    "    padding=\"same\",\n",
    "    strides=(1, 1),\n",
    ")\n",
    "\n",
    "# Up-sample to original image size\n",
    "fcn8s_upsample_layer = keras.layers.UpSampling2D(\n",
    "    size=(8, 8),\n",
    "    data_format=keras.backend.image_data_format(),\n",
    "    interpolation=\"bilinear\",\n",
    ")\n",
    "\n",
    "# Add intermediate outputs\n",
    "final_fcn8s_pool = keras.layers.Add()([pool3, intermediate_pool_output])\n",
    "final_fcn8s_output = fcn8s_conv_layer(final_fcn8s_pool)\n",
    "final_fcn8s_output = fcn8s_upsample_layer(final_fcn8s_output)\n",
    "\n",
    "fcn8s_model = keras.models.Model(inputs=input_layer, outputs=final_fcn8s_output)"
   ]
  },
  {
   "attachments": {},
   "cell_type": "markdown",
   "metadata": {
    "colab_type": "text"
   },
   "source": [
    "### Load weights into backbone\n",
    "\n",
    "It was noted in the paper, as well as through experimentation that extracting the weights\n",
    "of the last 2 Fully-connected Dense layers from the backbone, reshaping the weights to\n",
    "fit that of the `keras.layers.Dense` layers we had previously converted into\n",
    "`keras.layers.Conv2D`, and setting them to it yields far better results and a significant\n",
    "increase in mIOU performance."
   ]
  },
  {
   "cell_type": "code",
   "execution_count": null,
   "metadata": {
    "colab_type": "code"
   },
   "outputs": [],
   "source": [
    "# VGG's last 2 layers\n",
    "weights1 = vgg_model.get_layer(\"fc1\").get_weights()[0]\n",
    "weights2 = vgg_model.get_layer(\"fc2\").get_weights()[0]\n",
    "\n",
    "weights1 = weights1.reshape(7, 7, 512, 4096)\n",
    "weights2 = weights2.reshape(1, 1, 4096, 4096)\n",
    "\n",
    "dense_convs.layers[0].set_weights([weights1])\n",
    "dense_convs.layers[2].set_weights([weights2])"
   ]
  },
  {
   "attachments": {},
   "cell_type": "markdown",
   "metadata": {
    "colab_type": "text"
   },
   "source": [
    "## Training\n",
    "\n",
    "The original paper talks about making use of [SGD with Momentum](https://keras.io/api/optimizers/sgd/) as the optimizer of choice.\n",
    "But it was noticed during experimentation that\n",
    "[AdamW](https://keras.io/api/optimizers/adamw/)\n",
    "yielded better results in terms of mIOU and Pixel-wise Accuracy."
   ]
  },
  {
   "attachments": {},
   "cell_type": "markdown",
   "metadata": {
    "colab_type": "text"
   },
   "source": [
    "### FCN-32S"
   ]
  },
  {
   "cell_type": "code",
   "execution_count": null,
   "metadata": {
    "colab_type": "code"
   },
   "outputs": [],
   "source": [
    "fcn32s_optimizer = keras.optimizers.AdamW(\n",
    "    learning_rate=LEARNING_RATE, weight_decay=WEIGHT_DECAY\n",
    ")\n",
    "\n",
    "fcn32s_loss = keras.losses.SparseCategoricalCrossentropy()\n",
    "\n",
    "# Maintain mIOU and Pixel-wise Accuracy as metrics\n",
    "fcn32s_model.compile(\n",
    "    optimizer=fcn32s_optimizer,\n",
    "    loss=fcn32s_loss,\n",
    "    metrics=[\n",
    "        keras.metrics.MeanIoU(num_classes=NUM_CLASSES, sparse_y_pred=False),\n",
    "        keras.metrics.SparseCategoricalAccuracy(),\n",
    "    ],\n",
    ")\n",
    "\n",
    "fcn32s_history = fcn32s_model.fit(train_ds, epochs=EPOCHS, validation_data=valid_ds)"
   ]
  },
  {
   "attachments": {},
   "cell_type": "markdown",
   "metadata": {
    "colab_type": "text"
   },
   "source": [
    "### FCN-16S"
   ]
  },
  {
   "cell_type": "code",
   "execution_count": null,
   "metadata": {
    "colab_type": "code"
   },
   "outputs": [],
   "source": [
    "fcn16s_optimizer = keras.optimizers.AdamW(\n",
    "    learning_rate=LEARNING_RATE, weight_decay=WEIGHT_DECAY\n",
    ")\n",
    "\n",
    "fcn16s_loss = keras.losses.SparseCategoricalCrossentropy()\n",
    "\n",
    "# Maintain mIOU and Pixel-wise Accuracy as metrics\n",
    "fcn16s_model.compile(\n",
    "    optimizer=fcn16s_optimizer,\n",
    "    loss=fcn16s_loss,\n",
    "    metrics=[\n",
    "        keras.metrics.MeanIoU(num_classes=NUM_CLASSES, sparse_y_pred=False),\n",
    "        keras.metrics.SparseCategoricalAccuracy(),\n",
    "    ],\n",
    ")\n",
    "\n",
    "fcn16s_history = fcn16s_model.fit(train_ds, epochs=EPOCHS, validation_data=valid_ds)"
   ]
  },
  {
   "attachments": {},
   "cell_type": "markdown",
   "metadata": {
    "colab_type": "text"
   },
   "source": [
    "### FCN-8S"
   ]
  },
  {
   "cell_type": "code",
   "execution_count": null,
   "metadata": {
    "colab_type": "code"
   },
   "outputs": [],
   "source": [
    "fcn8s_optimizer = keras.optimizers.AdamW(\n",
    "    learning_rate=LEARNING_RATE, weight_decay=WEIGHT_DECAY\n",
    ")\n",
    "\n",
    "fcn8s_loss = keras.losses.SparseCategoricalCrossentropy()\n",
    "\n",
    "# Maintain mIOU and Pixel-wise Accuracy as metrics\n",
    "fcn8s_model.compile(\n",
    "    optimizer=fcn8s_optimizer,\n",
    "    loss=fcn8s_loss,\n",
    "    metrics=[\n",
    "        keras.metrics.MeanIoU(num_classes=NUM_CLASSES, sparse_y_pred=False),\n",
    "        keras.metrics.SparseCategoricalAccuracy(),\n",
    "    ],\n",
    ")\n",
    "\n",
    "fcn8s_history = fcn8s_model.fit(train_ds, epochs=EPOCHS, validation_data=valid_ds)"
   ]
  },
  {
   "attachments": {},
   "cell_type": "markdown",
   "metadata": {
    "colab_type": "text"
   },
   "source": [
    "## Visualizations"
   ]
  },
  {
   "attachments": {},
   "cell_type": "markdown",
   "metadata": {
    "colab_type": "text"
   },
   "source": [
    "### Plotting metrics for training run\n",
    "\n",
    "We perform a comparative study between all 3 versions of the model by tracking training\n",
    "and validation metrics of Accuracy, Loss and Mean IoU."
   ]
  },
  {
   "cell_type": "code",
   "execution_count": null,
   "metadata": {
    "colab_type": "code"
   },
   "outputs": [],
   "source": [
    "total_plots = len(fcn32s_history.history)\n",
    "cols = total_plots // 2\n",
    "\n",
    "rows = total_plots // cols\n",
    "\n",
    "if total_plots % cols != 0:\n",
    "    rows += 1\n",
    "\n",
    "# Set all history dictionary objects\n",
    "fcn32s_dict = fcn32s_history.history\n",
    "fcn16s_dict = fcn16s_history.history\n",
    "fcn8s_dict = fcn8s_history.history\n",
    "\n",
    "pos = range(1, total_plots + 1)\n",
    "plt.figure(figsize=(15, 10))\n",
    "\n",
    "for i, ((key_32s, value_32s), (key_16s, value_16s), (key_8s, value_8s)) in enumerate(\n",
    "    zip(fcn32s_dict.items(), fcn16s_dict.items(), fcn8s_dict.items())\n",
    "):\n",
    "    plt.subplot(rows, cols, pos[i])\n",
    "    plt.plot(range(len(value_32s)), value_32s)\n",
    "    plt.plot(range(len(value_16s)), value_16s)\n",
    "    plt.plot(range(len(value_8s)), value_8s)\n",
    "    plt.title(str(key_32s) + \" (combined)\")\n",
    "    plt.legend([\"FCN-32S\", \"FCN-16S\", \"FCN-8S\"])\n",
    "\n",
    "plt.show()"
   ]
  },
  {
   "attachments": {},
   "cell_type": "markdown",
   "metadata": {
    "colab_type": "text"
   },
   "source": [
    "### Visualizing predicted segmentation masks\n",
    "\n",
    "To understand the results and see them better, we pick a random image from the test\n",
    "dataset and perform inference on it to see the masks generated by each model.\n",
    "Note: For better results, the model must be trained for a higher number of epochs."
   ]
  },
  {
   "cell_type": "code",
   "execution_count": null,
   "metadata": {
    "colab_type": "code"
   },
   "outputs": [],
   "source": [
    "images, masks = next(iter(test_ds))\n",
    "random_idx = keras.random.uniform([], minval=0, maxval=BATCH_SIZE,seed=10)\n",
    "\n",
    "# Get random test image and mask\n",
    "test_image = images[int(random_idx)].numpy().astype(\"float\")\n",
    "test_mask = masks[int(random_idx)].numpy().astype(\"float\")\n",
    "\n",
    "pred_image = ops.expand_dims(test_image, axis=0)\n",
    "pred_image = keras.applications.vgg19.preprocess_input(pred_image)\n",
    "\n",
    "# Perform inference on FCN-32S\n",
    "pred_mask_32s = fcn32s_model.predict(pred_image, verbose=0).astype(\"float\")\n",
    "pred_mask_32s = np.argmax(pred_mask_32s, axis=-1)\n",
    "pred_mask_32s = pred_mask_32s[0, ...]\n",
    "\n",
    "# Perform inference on FCN-16S\n",
    "pred_mask_16s = fcn16s_model.predict(pred_image, verbose=0).astype(\"float\")\n",
    "pred_mask_16s = np.argmax(pred_mask_16s, axis=-1)\n",
    "pred_mask_16s = pred_mask_16s[0, ...]\n",
    "\n",
    "# Perform inference on FCN-8S\n",
    "pred_mask_8s = fcn8s_model.predict(pred_image, verbose=0).astype(\"float\")\n",
    "pred_mask_8s = np.argmax(pred_mask_8s, axis=-1)\n",
    "pred_mask_8s = pred_mask_8s[0, ...]\n",
    "\n",
    "# Plot all results\n",
    "fig, ax = plt.subplots(nrows=2, ncols=3, figsize=(15, 8))\n",
    "\n",
    "fig.delaxes(ax[0, 2])\n",
    "\n",
    "ax[0, 0].set_title(\"Image\")\n",
    "ax[0, 0].imshow(test_image / 255.0)\n",
    "\n",
    "ax[0, 1].set_title(\"Image with ground truth overlay\")\n",
    "ax[0, 1].imshow(test_image / 255.0)\n",
    "ax[0, 1].imshow(\n",
    "    test_mask,\n",
    "    cmap=\"inferno\",\n",
    "    alpha=0.6,\n",
    ")\n",
    "\n",
    "ax[1, 0].set_title(\"Image with FCN-32S mask overlay\")\n",
    "ax[1, 0].imshow(test_image / 255.0)\n",
    "ax[1, 0].imshow(pred_mask_32s, cmap=\"inferno\", alpha=0.6)\n",
    "\n",
    "ax[1, 1].set_title(\"Image with FCN-16S mask overlay\")\n",
    "ax[1, 1].imshow(test_image / 255.0)\n",
    "ax[1, 1].imshow(pred_mask_16s, cmap=\"inferno\", alpha=0.6)\n",
    "\n",
    "ax[1, 2].set_title(\"Image with FCN-8S mask overlay\")\n",
    "ax[1, 2].imshow(test_image / 255.0)\n",
    "ax[1, 2].imshow(pred_mask_8s, cmap=\"inferno\", alpha=0.6)\n",
    "\n",
    "plt.show()"
   ]
  },
  {
   "attachments": {},
   "cell_type": "markdown",
   "metadata": {
    "colab_type": "text"
   },
   "source": [
    "## Conclusion\n",
    "\n",
    "The Fully-Convolutional Network is an exceptionally simple network that has yielded\n",
    "strong results in Image Segmentation tasks across different benchmarks.\n",
    "With the advent of better mechanisms like [Attention](https://arxiv.org/abs/1706.03762) as used in\n",
    "[SegFormer](https://arxiv.org/abs/2105.15203) and\n",
    "[DeTR](https://arxiv.org/abs/2005.12872), this model serves as a quick way to iterate and\n",
    "find baselines for this task on unknown data."
   ]
  },
  {
   "attachments": {},
   "cell_type": "markdown",
   "metadata": {
    "colab_type": "text"
   },
   "source": [
    "## Acknowledgements\n",
    "\n",
    "I thank [Aritra Roy Gosthipaty](https://twitter.com/ariG23498), [Ayush\n",
    "Thakur](https://twitter.com/ayushthakur0) and [Ritwik\n",
    "Raha](https://twitter.com/ritwik_raha) for giving a preliminary review of the example.\n",
    "I also thank the [Google Developer\n",
    "Experts](https://developers.google.com/community/experts) program."
   ]
  }
 ],
 "metadata": {
  "accelerator": "GPU",
  "colab": {
   "collapsed_sections": [],
   "name": "fully_convolutional_network",
   "private_outputs": false,
   "provenance": [],
   "toc_visible": true
  },
  "kernelspec": {
   "display_name": "Python 3",
   "language": "python",
   "name": "python3"
  },
  "language_info": {
   "codemirror_mode": {
    "name": "ipython",
    "version": 3
   },
   "file_extension": ".py",
   "mimetype": "text/x-python",
   "name": "python",
   "nbconvert_exporter": "python",
   "pygments_lexer": "ipython3",
   "version": "3.7.0"
  }
 },
 "nbformat": 4,
 "nbformat_minor": 0
}
